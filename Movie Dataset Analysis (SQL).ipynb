{
 "cells": [
  {
   "cell_type": "markdown",
   "id": "a4629ba7-b6fb-430d-bcd0-34cb15f5d6e4",
   "metadata": {},
   "source": [
    "# Exploratory Data Analysis of the TMDB Dataset"
   ]
  },
  {
   "cell_type": "markdown",
   "id": "41faa04c-8ae5-4400-946f-d90b95859f5a",
   "metadata": {},
   "source": [
    "### Introduction\n",
    "In this movie dataset analysis, we explore a collection of films spanning various genres, production companies, and release years. The dataset includes key attributes such as budget, revenue, ratings, and the number of reviews, allowing us to investigate trends in box office performance and audience reception. By examining factors like genre popularity, budget-to-revenue ratios, and the impact of critical acclaim, we aim to uncover insights into what drives a movie's commercial and critical success. This analysis provides a comprehensive overview of the film industry's landscape and the characteristics of top-grossing films."
   ]
  },
  {
   "cell_type": "code",
   "execution_count": 1,
   "id": "063e8756-c36a-4a36-a25e-e57c3efd398c",
   "metadata": {},
   "outputs": [],
   "source": [
    "%load_ext sql"
   ]
  },
  {
   "cell_type": "code",
   "execution_count": 2,
   "id": "708d9fee-d2f8-4d75-810d-6a487aef3b13",
   "metadata": {},
   "outputs": [],
   "source": [
    "%sql sqlite:///TMDB.db"
   ]
  },
  {
   "cell_type": "markdown",
   "id": "e3f4312b-5cf8-44fd-a223-783431b98aee",
   "metadata": {},
   "source": [
    "### List All Tables in the Database"
   ]
  },
  {
   "cell_type": "code",
   "execution_count": 39,
   "id": "6e4d989a-1a66-4814-9043-75e4b96fc205",
   "metadata": {},
   "outputs": [
    {
     "name": "stdout",
     "output_type": "stream",
     "text": [
      " * sqlite:///TMDB.db\n",
      "Done.\n"
     ]
    },
    {
     "data": {
      "text/html": [
       "<table>\n",
       "    <tr>\n",
       "        <th>name</th>\n",
       "    </tr>\n",
       "    <tr>\n",
       "        <td>actors</td>\n",
       "    </tr>\n",
       "    <tr>\n",
       "        <td>casts</td>\n",
       "    </tr>\n",
       "    <tr>\n",
       "        <td>genremap</td>\n",
       "    </tr>\n",
       "    <tr>\n",
       "        <td>genres</td>\n",
       "    </tr>\n",
       "    <tr>\n",
       "        <td>keywordmap</td>\n",
       "    </tr>\n",
       "    <tr>\n",
       "        <td>keywords</td>\n",
       "    </tr>\n",
       "    <tr>\n",
       "        <td>languagemap</td>\n",
       "    </tr>\n",
       "    <tr>\n",
       "        <td>languages</td>\n",
       "    </tr>\n",
       "    <tr>\n",
       "        <td>movies</td>\n",
       "    </tr>\n",
       "    <tr>\n",
       "        <td>oscars</td>\n",
       "    </tr>\n",
       "    <tr>\n",
       "        <td>productioncompanies</td>\n",
       "    </tr>\n",
       "    <tr>\n",
       "        <td>productioncompanymap</td>\n",
       "    </tr>\n",
       "    <tr>\n",
       "        <td>productioncountries</td>\n",
       "    </tr>\n",
       "    <tr>\n",
       "        <td>productioncountrymap</td>\n",
       "    </tr>\n",
       "    <tr>\n",
       "        <td>sysdiagrams</td>\n",
       "    </tr>\n",
       "</table>"
      ],
      "text/plain": [
       "[('actors',),\n",
       " ('casts',),\n",
       " ('genremap',),\n",
       " ('genres',),\n",
       " ('keywordmap',),\n",
       " ('keywords',),\n",
       " ('languagemap',),\n",
       " ('languages',),\n",
       " ('movies',),\n",
       " ('oscars',),\n",
       " ('productioncompanies',),\n",
       " ('productioncompanymap',),\n",
       " ('productioncountries',),\n",
       " ('productioncountrymap',),\n",
       " ('sysdiagrams',)]"
      ]
     },
     "execution_count": 39,
     "metadata": {},
     "output_type": "execute_result"
    }
   ],
   "source": [
    "%%sql\n",
    "\n",
    "SELECT name \n",
    "FROM sqlite_master \n",
    "WHERE type='table';"
   ]
  },
  {
   "cell_type": "markdown",
   "id": "8f28a551-29ed-4e8d-bf83-d674615f7c14",
   "metadata": {},
   "source": [
    "## Analyzing the Movies table"
   ]
  },
  {
   "cell_type": "code",
   "execution_count": 35,
   "id": "bec0fd18-82db-4a9c-b41a-657ddcc1a080",
   "metadata": {},
   "outputs": [
    {
     "name": "stdout",
     "output_type": "stream",
     "text": [
      " * sqlite:///TMDB.db\n",
      "Done.\n"
     ]
    },
    {
     "data": {
      "text/html": [
       "<table>\n",
       "    <tr>\n",
       "        <th>cid</th>\n",
       "        <th>name</th>\n",
       "        <th>type</th>\n",
       "        <th>notnull</th>\n",
       "        <th>dflt_value</th>\n",
       "        <th>pk</th>\n",
       "    </tr>\n",
       "    <tr>\n",
       "        <td>0</td>\n",
       "        <td>movie_id</td>\n",
       "        <td>INTEGER</td>\n",
       "        <td>1</td>\n",
       "        <td>None</td>\n",
       "        <td>1</td>\n",
       "    </tr>\n",
       "    <tr>\n",
       "        <td>1</td>\n",
       "        <td>title</td>\n",
       "        <td>varchar(500)</td>\n",
       "        <td>0</td>\n",
       "        <td>NULL</td>\n",
       "        <td>0</td>\n",
       "    </tr>\n",
       "    <tr>\n",
       "        <td>2</td>\n",
       "        <td>release_date</td>\n",
       "        <td>datetime(6)</td>\n",
       "        <td>0</td>\n",
       "        <td>NULL</td>\n",
       "        <td>0</td>\n",
       "    </tr>\n",
       "    <tr>\n",
       "        <td>3</td>\n",
       "        <td>budget</td>\n",
       "        <td>INTEGER</td>\n",
       "        <td>0</td>\n",
       "        <td>NULL</td>\n",
       "        <td>0</td>\n",
       "    </tr>\n",
       "    <tr>\n",
       "        <td>4</td>\n",
       "        <td>homepage</td>\n",
       "        <td>varchar(500)</td>\n",
       "        <td>0</td>\n",
       "        <td>NULL</td>\n",
       "        <td>0</td>\n",
       "    </tr>\n",
       "    <tr>\n",
       "        <td>5</td>\n",
       "        <td>original_language</td>\n",
       "        <td>varchar(50)</td>\n",
       "        <td>0</td>\n",
       "        <td>NULL</td>\n",
       "        <td>0</td>\n",
       "    </tr>\n",
       "    <tr>\n",
       "        <td>6</td>\n",
       "        <td>original_title</td>\n",
       "        <td>varchar(500)</td>\n",
       "        <td>0</td>\n",
       "        <td>NULL</td>\n",
       "        <td>0</td>\n",
       "    </tr>\n",
       "    <tr>\n",
       "        <td>7</td>\n",
       "        <td>overview</td>\n",
       "        <td>varchar(5000)</td>\n",
       "        <td>0</td>\n",
       "        <td>NULL</td>\n",
       "        <td>0</td>\n",
       "    </tr>\n",
       "    <tr>\n",
       "        <td>8</td>\n",
       "        <td>popularity</td>\n",
       "        <td>double</td>\n",
       "        <td>0</td>\n",
       "        <td>NULL</td>\n",
       "        <td>0</td>\n",
       "    </tr>\n",
       "    <tr>\n",
       "        <td>9</td>\n",
       "        <td>revenue</td>\n",
       "        <td>double</td>\n",
       "        <td>0</td>\n",
       "        <td>NULL</td>\n",
       "        <td>0</td>\n",
       "    </tr>\n",
       "    <tr>\n",
       "        <td>10</td>\n",
       "        <td>runtime</td>\n",
       "        <td>double</td>\n",
       "        <td>0</td>\n",
       "        <td>NULL</td>\n",
       "        <td>0</td>\n",
       "    </tr>\n",
       "    <tr>\n",
       "        <td>11</td>\n",
       "        <td>release_status</td>\n",
       "        <td>varchar(50)</td>\n",
       "        <td>0</td>\n",
       "        <td>NULL</td>\n",
       "        <td>0</td>\n",
       "    </tr>\n",
       "    <tr>\n",
       "        <td>12</td>\n",
       "        <td>tagline</td>\n",
       "        <td>varchar(500)</td>\n",
       "        <td>0</td>\n",
       "        <td>NULL</td>\n",
       "        <td>0</td>\n",
       "    </tr>\n",
       "    <tr>\n",
       "        <td>13</td>\n",
       "        <td>vote_average</td>\n",
       "        <td>double</td>\n",
       "        <td>0</td>\n",
       "        <td>NULL</td>\n",
       "        <td>0</td>\n",
       "    </tr>\n",
       "    <tr>\n",
       "        <td>14</td>\n",
       "        <td>vote_count</td>\n",
       "        <td>INTEGER</td>\n",
       "        <td>0</td>\n",
       "        <td>NULL</td>\n",
       "        <td>0</td>\n",
       "    </tr>\n",
       "    <tr>\n",
       "        <td>15</td>\n",
       "        <td>year_released</td>\n",
       "        <td>INT</td>\n",
       "        <td>0</td>\n",
       "        <td>None</td>\n",
       "        <td>0</td>\n",
       "    </tr>\n",
       "</table>"
      ],
      "text/plain": [
       "[(0, 'movie_id', 'INTEGER', 1, None, 1),\n",
       " (1, 'title', 'varchar(500)', 0, 'NULL', 0),\n",
       " (2, 'release_date', 'datetime(6)', 0, 'NULL', 0),\n",
       " (3, 'budget', 'INTEGER', 0, 'NULL', 0),\n",
       " (4, 'homepage', 'varchar(500)', 0, 'NULL', 0),\n",
       " (5, 'original_language', 'varchar(50)', 0, 'NULL', 0),\n",
       " (6, 'original_title', 'varchar(500)', 0, 'NULL', 0),\n",
       " (7, 'overview', 'varchar(5000)', 0, 'NULL', 0),\n",
       " (8, 'popularity', 'double', 0, 'NULL', 0),\n",
       " (9, 'revenue', 'double', 0, 'NULL', 0),\n",
       " (10, 'runtime', 'double', 0, 'NULL', 0),\n",
       " (11, 'release_status', 'varchar(50)', 0, 'NULL', 0),\n",
       " (12, 'tagline', 'varchar(500)', 0, 'NULL', 0),\n",
       " (13, 'vote_average', 'double', 0, 'NULL', 0),\n",
       " (14, 'vote_count', 'INTEGER', 0, 'NULL', 0),\n",
       " (15, 'year_released', 'INT', 0, None, 0)]"
      ]
     },
     "execution_count": 35,
     "metadata": {},
     "output_type": "execute_result"
    }
   ],
   "source": [
    "%%sql\n",
    "\n",
    "PRAGMA table_info(movies);"
   ]
  },
  {
   "cell_type": "markdown",
   "id": "518abc3a-bdbe-4153-b8a5-97a4a177c83d",
   "metadata": {},
   "source": [
    "#### Find Duplicates"
   ]
  },
  {
   "cell_type": "code",
   "execution_count": 207,
   "id": "c111a2d6-5355-4177-84ad-9578dac5c6db",
   "metadata": {},
   "outputs": [
    {
     "name": "stdout",
     "output_type": "stream",
     "text": [
      " * sqlite:///TMDB.db\n",
      "Done.\n"
     ]
    },
    {
     "data": {
      "text/html": [
       "<table>\n",
       "    <tr>\n",
       "        <th>movie_id</th>\n",
       "        <th>title</th>\n",
       "        <th>release_date</th>\n",
       "        <th>budget</th>\n",
       "        <th>homepage</th>\n",
       "        <th>original_language</th>\n",
       "        <th>original_title</th>\n",
       "        <th>overview</th>\n",
       "        <th>popularity</th>\n",
       "        <th>revenue</th>\n",
       "        <th>runtime</th>\n",
       "        <th>release_status</th>\n",
       "        <th>tagline</th>\n",
       "        <th>vote_average</th>\n",
       "        <th>vote_count</th>\n",
       "        <th>year_released</th>\n",
       "    </tr>\n",
       "    <tr>\n",
       "        <td>268</td>\n",
       "        <td>Batman</td>\n",
       "        <td>1989-06-23 00:00:00.000000</td>\n",
       "        <td>35000000</td>\n",
       "        <td>None</td>\n",
       "        <td>en</td>\n",
       "        <td>Batman</td>\n",
       "        <td>The Dark Knight of Gotham City begins his war on crime with his first major enemy being the clownishly homicidal Joker, who has seized control of Gotham&#x27;s underworld.</td>\n",
       "        <td>44.104469</td>\n",
       "        <td>411348924.0</td>\n",
       "        <td>126.0</td>\n",
       "        <td>Released</td>\n",
       "        <td>Have you ever danced with the devil in the pale moonlight?</td>\n",
       "        <td>7.0</td>\n",
       "        <td>2096</td>\n",
       "        <td>1989</td>\n",
       "    </tr>\n",
       "    <tr>\n",
       "        <td>10844</td>\n",
       "        <td>Out of the Blue</td>\n",
       "        <td>2006-10-12 00:00:00.000000</td>\n",
       "        <td>None</td>\n",
       "        <td>None</td>\n",
       "        <td>en</td>\n",
       "        <td>Out of the Blue</td>\n",
       "        <td>Ordinary people find extraordinary courage in the face of madness. On 13û14 November 1990 that madness came to Aramoana, a small New Zealand seaside town, in the form of a lone gunman with a high-powered semi-automatic rifle. As he stalked his victims the terrified and confused residents were trapped for 24 hours while a handful of under-resourced and under-armed local policemen risked their lives trying to find him and save the survivors. Based on true events.</td>\n",
       "        <td>0.706355</td>\n",
       "        <td>None</td>\n",
       "        <td>103.0</td>\n",
       "        <td>Released</td>\n",
       "        <td>The true story of a small town massacre</td>\n",
       "        <td>5.9</td>\n",
       "        <td>18</td>\n",
       "        <td>2006</td>\n",
       "    </tr>\n",
       "    <tr>\n",
       "        <td>1255</td>\n",
       "        <td>The Host</td>\n",
       "        <td>2006-07-27 00:00:00.000000</td>\n",
       "        <td>11000000</td>\n",
       "        <td>http://www.hostmovie.com/</td>\n",
       "        <td>ko</td>\n",
       "        <td>??</td>\n",
       "        <td>Gang-du is a dim-witted man working at his father&#x27;s tiny snack bar near the Han River. One day, Gang-du&#x27;s one and only daughter Hyun-seo comes back from school irritated. She is angry at her uncle, Nam-il, who visited her school as her guardian shamelessly drunk. Ignoring her father&#x27;s excuses for Nam-il, Hyun-seo is soon engrossed in her aunt Nam-joo&#x27;s archery tournament on TV. Meanwhile, outside of the snack bar, people are fascinated by an unidentified object hanging onto a bridge. In an instant, the object reveals itself as a terrifying creature turning the riverbank into a gruesome sea of bloodíª Amid the chaos, Hyun-seo is helplessly snatched up by the creature right before Gang-du&#x27;s eyes. These unforeseen circumstances render the government powerless to act. But receiving a call of help from Hyun-seo, the once-ordinary citizen Gang-du and his family are thrust into a battle with the monster to rescue their beloved Hyun-seo.</td>\n",
       "        <td>27.65527</td>\n",
       "        <td>88489643.0</td>\n",
       "        <td>119.0</td>\n",
       "        <td>Released</td>\n",
       "        <td>Monsters are real.</td>\n",
       "        <td>6.7</td>\n",
       "        <td>537</td>\n",
       "        <td>2006</td>\n",
       "    </tr>\n",
       "</table>"
      ],
      "text/plain": [
       "[(268, 'Batman', '1989-06-23 00:00:00.000000', 35000000, None, 'en', 'Batman', \"The Dark Knight of Gotham City begins his war on crime with his first major enemy being the clownishly homicidal Joker, who has seized control of Gotham's underworld.\", 44.104469, 411348924.0, 126.0, 'Released', 'Have you ever danced with the devil in the pale moonlight?', 7.0, 2096, 1989),\n",
       " (10844, 'Out of the Blue', '2006-10-12 00:00:00.000000', None, None, 'en', 'Out of the Blue', 'Ordinary people find extraordinary courage in the face of madness. On 13û14 November 1990 that madness came to Aramoana, a small New Zealand seaside  ... (167 characters truncated) ... hile a handful of under-resourced and under-armed local policemen risked their lives trying to find him and save the survivors. Based on true events.', 0.706355, None, 103.0, 'Released', 'The true story of a small town massacre', 5.9, 18, 2006),\n",
       " (1255, 'The Host', '2006-07-27 00:00:00.000000', 11000000, 'http://www.hostmovie.com/', 'ko', '??', \"Gang-du is a dim-witted man working at his father's tiny snack bar near the Han River. One day, Gang-du's one and only daughter Hyun-seo comes back f ... (645 characters truncated) ... l of help from Hyun-seo, the once-ordinary citizen Gang-du and his family are thrust into a battle with the monster to rescue their beloved Hyun-seo.\", 27.65527, 88489643.0, 119.0, 'Released', 'Monsters are real.', 6.7, 537, 2006)]"
      ]
     },
     "execution_count": 207,
     "metadata": {},
     "output_type": "execute_result"
    }
   ],
   "source": [
    "%%sql\n",
    "\n",
    "SELECT *\n",
    "FROM movies\n",
    "GROUP BY title\n",
    "HAVING COUNT(*) > 1;"
   ]
  },
  {
   "cell_type": "markdown",
   "id": "449a7145-fb12-483a-8aea-9b10c1ee0b49",
   "metadata": {},
   "source": [
    "3 movies had duplicates in the dataset, however, they were not deleted because further analysis indicated that the movies were released in different years suggesting that the movies had different parts and were not necessarily duplicates."
   ]
  },
  {
   "cell_type": "markdown",
   "id": "f021ddd5-5203-4a94-949b-4ead209edd5e",
   "metadata": {},
   "source": [
    "#### Added a year_released column to the Dataset which is an extraction of the year from the release_date column in the movie table"
   ]
  },
  {
   "cell_type": "code",
   "execution_count": 46,
   "id": "5d96a423-c383-47f0-a96e-b902bbfb9b9b",
   "metadata": {},
   "outputs": [
    {
     "name": "stdout",
     "output_type": "stream",
     "text": [
      " * sqlite:///TMDB.db\n",
      "(sqlite3.OperationalError) duplicate column name: year_released\n",
      "[SQL: ALTER TABLE movies\n",
      "ADD COLUMN year_released INT;]\n",
      "(Background on this error at: https://sqlalche.me/e/14/e3q8)\n"
     ]
    }
   ],
   "source": [
    "%%sql\n",
    "\n",
    "ALTER TABLE movies\n",
    "ADD COLUMN year_released INT;"
   ]
  },
  {
   "cell_type": "code",
   "execution_count": 37,
   "id": "534ba2c5-c3d9-48ba-a457-e3c0e2e6c4d9",
   "metadata": {},
   "outputs": [
    {
     "name": "stdout",
     "output_type": "stream",
     "text": [
      " * sqlite:///TMDB.db\n",
      "4803 rows affected.\n"
     ]
    },
    {
     "data": {
      "text/plain": [
       "[]"
      ]
     },
     "execution_count": 37,
     "metadata": {},
     "output_type": "execute_result"
    }
   ],
   "source": [
    "%%sql\n",
    "\n",
    "UPDATE \n",
    "  movies\n",
    "SET \n",
    "  year_released = strftime('%Y', release_date);"
   ]
  },
  {
   "cell_type": "markdown",
   "id": "0ad56fe1-29b3-4cf2-b40e-02670e6aa104",
   "metadata": {},
   "source": [
    "#### The total number of records in the movies table"
   ]
  },
  {
   "cell_type": "code",
   "execution_count": 208,
   "id": "6971a6ec-1830-42ea-aaee-c36c1e921b74",
   "metadata": {},
   "outputs": [
    {
     "name": "stdout",
     "output_type": "stream",
     "text": [
      " * sqlite:///TMDB.db\n",
      "Done.\n"
     ]
    },
    {
     "data": {
      "text/html": [
       "<table>\n",
       "    <tr>\n",
       "        <th>no_of_movies</th>\n",
       "    </tr>\n",
       "    <tr>\n",
       "        <td>4801</td>\n",
       "    </tr>\n",
       "</table>"
      ],
      "text/plain": [
       "[(4801,)]"
      ]
     },
     "execution_count": 208,
     "metadata": {},
     "output_type": "execute_result"
    }
   ],
   "source": [
    "%%sql\n",
    "\n",
    "SELECT COUNT(*) as no_of_movies\n",
    "FROM movies;"
   ]
  },
  {
   "cell_type": "markdown",
   "id": "a434560a-b412-4dff-89ab-ec37bb76b1cc",
   "metadata": {},
   "source": [
    "#### Calculated the minimum, maximum, and average values of the year_released, budget, revenue, runtime, popularity, vote_average and vote_count columns"
   ]
  },
  {
   "cell_type": "code",
   "execution_count": 209,
   "id": "531fa6bb-14d0-4f04-a83b-09f0b77cccb7",
   "metadata": {},
   "outputs": [
    {
     "name": "stdout",
     "output_type": "stream",
     "text": [
      " * sqlite:///TMDB.db\n",
      "Done.\n"
     ]
    },
    {
     "data": {
      "text/html": [
       "<table>\n",
       "    <tr>\n",
       "        <th>min_year</th>\n",
       "        <th>max_year</th>\n",
       "    </tr>\n",
       "    <tr>\n",
       "        <td>1916</td>\n",
       "        <td>2016</td>\n",
       "    </tr>\n",
       "</table>"
      ],
      "text/plain": [
       "[(1916, 2016)]"
      ]
     },
     "execution_count": 209,
     "metadata": {},
     "output_type": "execute_result"
    }
   ],
   "source": [
    "%%sql\n",
    "-- Minimum and Maximum values in the year_released column\n",
    "\n",
    "SELECT \n",
    "    MIN(year_released) AS min_year, \n",
    "    MAX(year_released) AS max_year\n",
    "FROM movies;"
   ]
  },
  {
   "cell_type": "code",
   "execution_count": 210,
   "id": "4607ad86-bbab-4cc2-b0ab-0f67cd46f31d",
   "metadata": {},
   "outputs": [
    {
     "name": "stdout",
     "output_type": "stream",
     "text": [
      " * sqlite:///TMDB.db\n",
      "Done.\n"
     ]
    },
    {
     "data": {
      "text/html": [
       "<table>\n",
       "    <tr>\n",
       "        <th>min_budget</th>\n",
       "        <th>max_budget</th>\n",
       "        <th>average_budget</th>\n",
       "    </tr>\n",
       "    <tr>\n",
       "        <td>1</td>\n",
       "        <td>380000000</td>\n",
       "        <td>37042838.0</td>\n",
       "    </tr>\n",
       "</table>"
      ],
      "text/plain": [
       "[(1, 380000000, 37042838.0)]"
      ]
     },
     "execution_count": 210,
     "metadata": {},
     "output_type": "execute_result"
    }
   ],
   "source": [
    "%%sql\n",
    "-- Minimum and Maximum values in the budget column\n",
    "\n",
    "SELECT\n",
    "    MIN(budget) AS min_budget, \n",
    "    MAX(budget) AS max_budget,\n",
    "    ROUND(AVG(budget)) AS average_budget\n",
    "FROM movies;"
   ]
  },
  {
   "cell_type": "code",
   "execution_count": 211,
   "id": "e43efc17-1ad8-41ce-93cd-1bdebf9def02",
   "metadata": {},
   "outputs": [
    {
     "name": "stdout",
     "output_type": "stream",
     "text": [
      " * sqlite:///TMDB.db\n",
      "Done.\n"
     ]
    },
    {
     "data": {
      "text/html": [
       "<table>\n",
       "    <tr>\n",
       "        <th>min_revenue</th>\n",
       "        <th>max_revenue</th>\n",
       "        <th>average_revenue</th>\n",
       "    </tr>\n",
       "    <tr>\n",
       "        <td>5.0</td>\n",
       "        <td>2787965087.0</td>\n",
       "        <td>117031353.0</td>\n",
       "    </tr>\n",
       "</table>"
      ],
      "text/plain": [
       "[(5.0, 2787965087.0, 117031353.0)]"
      ]
     },
     "execution_count": 211,
     "metadata": {},
     "output_type": "execute_result"
    }
   ],
   "source": [
    "%%sql\n",
    "-- Minimum and Maximum values in the revenue column\n",
    "\n",
    "SELECT \n",
    "    MIN(revenue) AS min_revenue, \n",
    "    MAX(revenue) AS max_revenue,\n",
    "    ROUND(AVG(revenue)) AS average_revenue\n",
    "FROM movies;"
   ]
  },
  {
   "cell_type": "code",
   "execution_count": 212,
   "id": "4d8ca442-cc3a-44c2-8bd9-ab51fb951916",
   "metadata": {},
   "outputs": [
    {
     "name": "stdout",
     "output_type": "stream",
     "text": [
      " * sqlite:///TMDB.db\n",
      "Done.\n"
     ]
    },
    {
     "data": {
      "text/html": [
       "<table>\n",
       "    <tr>\n",
       "        <th>min_runtime</th>\n",
       "        <th>max_runtime</th>\n",
       "        <th>average_runtime</th>\n",
       "    </tr>\n",
       "    <tr>\n",
       "        <td>14.0</td>\n",
       "        <td>338.0</td>\n",
       "        <td>108.0</td>\n",
       "    </tr>\n",
       "</table>"
      ],
      "text/plain": [
       "[(14.0, 338.0, 108.0)]"
      ]
     },
     "execution_count": 212,
     "metadata": {},
     "output_type": "execute_result"
    }
   ],
   "source": [
    "%%sql\n",
    "-- Minimum and Maximum values in the runtime column\n",
    "\n",
    "SELECT \n",
    "    MIN(runtime) AS min_runtime, \n",
    "    MAX(runtime) AS max_runtime,\n",
    "    ROUND(AVG(runtime)) AS average_runtime\n",
    "FROM movies;"
   ]
  },
  {
   "cell_type": "code",
   "execution_count": 213,
   "id": "78c23a54-6864-4bb8-90e4-a68beed96059",
   "metadata": {},
   "outputs": [
    {
     "name": "stdout",
     "output_type": "stream",
     "text": [
      " * sqlite:///TMDB.db\n",
      "Done.\n"
     ]
    },
    {
     "data": {
      "text/html": [
       "<table>\n",
       "    <tr>\n",
       "        <th>min_popularity</th>\n",
       "        <th>max_popularity</th>\n",
       "        <th>average_popularity</th>\n",
       "    </tr>\n",
       "    <tr>\n",
       "        <td>0.000372</td>\n",
       "        <td>875.581305</td>\n",
       "        <td>22.0</td>\n",
       "    </tr>\n",
       "</table>"
      ],
      "text/plain": [
       "[(0.000372, 875.581305, 22.0)]"
      ]
     },
     "execution_count": 213,
     "metadata": {},
     "output_type": "execute_result"
    }
   ],
   "source": [
    "%%sql\n",
    "-- Minimum and Maximum values in the popularity column\n",
    "\n",
    "SELECT \n",
    "    MIN(popularity) AS min_popularity, \n",
    "    MAX(popularity) AS max_popularity,\n",
    "    ROUND(AVG(popularity)) AS average_popularity\n",
    "FROM movies;"
   ]
  },
  {
   "cell_type": "code",
   "execution_count": 214,
   "id": "6052e884-1d32-403b-ae4f-f3d19dbe25a0",
   "metadata": {},
   "outputs": [
    {
     "name": "stdout",
     "output_type": "stream",
     "text": [
      " * sqlite:///TMDB.db\n",
      "Done.\n"
     ]
    },
    {
     "data": {
      "text/html": [
       "<table>\n",
       "    <tr>\n",
       "        <th>min_vote_count</th>\n",
       "        <th>max_vote_count</th>\n",
       "        <th>average_vote_count</th>\n",
       "    </tr>\n",
       "    <tr>\n",
       "        <td>1</td>\n",
       "        <td>13752</td>\n",
       "        <td>699.0</td>\n",
       "    </tr>\n",
       "</table>"
      ],
      "text/plain": [
       "[(1, 13752, 699.0)]"
      ]
     },
     "execution_count": 214,
     "metadata": {},
     "output_type": "execute_result"
    }
   ],
   "source": [
    "%%sql\n",
    "-- Minimum and Maximum values in the vote_count column\n",
    "\n",
    "SELECT \n",
    "    MIN(vote_count) AS min_vote_count, \n",
    "    MAX(vote_count) AS max_vote_count,\n",
    "    ROUND(AVG(vote_count)) AS average_vote_count\n",
    "FROM movies;"
   ]
  },
  {
   "cell_type": "code",
   "execution_count": 286,
   "id": "80a43a84-9f1e-482b-9add-20286924e7ce",
   "metadata": {},
   "outputs": [
    {
     "name": "stdout",
     "output_type": "stream",
     "text": [
      " * sqlite:///TMDB.db\n",
      "Done.\n"
     ]
    },
    {
     "data": {
      "text/html": [
       "<table>\n",
       "    <tr>\n",
       "        <th>min_vote_average</th>\n",
       "        <th>max_vote_average</th>\n",
       "        <th>average_vote_average</th>\n",
       "    </tr>\n",
       "    <tr>\n",
       "        <td>0.5</td>\n",
       "        <td>10.0</td>\n",
       "        <td>6.0</td>\n",
       "    </tr>\n",
       "</table>"
      ],
      "text/plain": [
       "[(0.5, 10.0, 6.0)]"
      ]
     },
     "execution_count": 286,
     "metadata": {},
     "output_type": "execute_result"
    }
   ],
   "source": [
    "%%sql\n",
    "-- Minimum and Maximum values in the vote_average column\n",
    "\n",
    "SELECT \n",
    "    MIN(vote_average) AS min_vote_average, \n",
    "    MAX(vote_average) AS max_vote_average,\n",
    "    ROUND(AVG(vote_average)) AS average_vote_average\n",
    "FROM movies;"
   ]
  },
  {
   "cell_type": "code",
   "execution_count": 164,
   "id": "d151a034-b48f-45c1-a16a-00b91c80b6cc",
   "metadata": {},
   "outputs": [
    {
     "name": "stdout",
     "output_type": "stream",
     "text": [
      " * sqlite:///TMDB.db\n",
      "Done.\n"
     ]
    },
    {
     "data": {
      "text/html": [
       "<table>\n",
       "    <tr>\n",
       "        <th>zero_values</th>\n",
       "    </tr>\n",
       "    <tr>\n",
       "        <td>0</td>\n",
       "    </tr>\n",
       "</table>"
      ],
      "text/plain": [
       "[(0,)]"
      ]
     },
     "execution_count": 164,
     "metadata": {},
     "output_type": "execute_result"
    }
   ],
   "source": [
    "%%sql\n",
    "\n",
    "SELECT COUNT(*) as zero_values FROM movies\n",
    "WHERE budget = 0 or runtime = 0 or revenue = 0 or popularity "
   ]
  },
  {
   "cell_type": "code",
   "execution_count": 94,
   "id": "5bc57e7a-502e-481b-949f-dc9a02bc4d58",
   "metadata": {},
   "outputs": [
    {
     "name": "stdout",
     "output_type": "stream",
     "text": [
      " * sqlite:///TMDB.db\n",
      "Done.\n"
     ]
    },
    {
     "data": {
      "text/html": [
       "<table>\n",
       "    <tr>\n",
       "        <th>zero_values</th>\n",
       "    </tr>\n",
       "    <tr>\n",
       "        <td>31</td>\n",
       "    </tr>\n",
       "</table>"
      ],
      "text/plain": [
       "[(31,)]"
      ]
     },
     "execution_count": 94,
     "metadata": {},
     "output_type": "execute_result"
    }
   ],
   "source": [
    "%%sql\n",
    "\n",
    "SELECT COUNT(*) as zero_values FROM movies\n",
    "WHERE budget = 0 and runtime = 0 and revenue = 0"
   ]
  },
  {
   "cell_type": "markdown",
   "id": "72dd727e-4d4d-460f-a9d2-051475505818",
   "metadata": {},
   "source": [
    "The analysis indicated that there are are 1573 rows of data that have 0 values in at least on of numerical columns such as budget, runtime, and revenue and 31 rows of that that have 0 values for all three columns which suggests that they could be missing values in the dataset."
   ]
  },
  {
   "cell_type": "code",
   "execution_count": 85,
   "id": "68820a59-4f7d-4d05-830b-a082b2afec78",
   "metadata": {},
   "outputs": [
    {
     "name": "stdout",
     "output_type": "stream",
     "text": [
      " * sqlite:///TMDB.db\n",
      "Done.\n"
     ]
    },
    {
     "data": {
      "text/html": [
       "<table>\n",
       "    <tr>\n",
       "        <th>movie_id</th>\n",
       "        <th>title</th>\n",
       "        <th>release_date</th>\n",
       "        <th>budget</th>\n",
       "        <th>homepage</th>\n",
       "        <th>original_language</th>\n",
       "        <th>original_title</th>\n",
       "        <th>overview</th>\n",
       "        <th>popularity</th>\n",
       "        <th>revenue</th>\n",
       "        <th>runtime</th>\n",
       "        <th>release_status</th>\n",
       "        <th>tagline</th>\n",
       "        <th>vote_average</th>\n",
       "        <th>vote_count</th>\n",
       "        <th>year_released</th>\n",
       "    </tr>\n",
       "</table>"
      ],
      "text/plain": [
       "[]"
      ]
     },
     "execution_count": 85,
     "metadata": {},
     "output_type": "execute_result"
    }
   ],
   "source": [
    "%%sql\n",
    "\n",
    "SELECT * FROM movies\n",
    "WHERE budget = 0 and runtime = 0 and revenue = 0 and popularity = 0"
   ]
  },
  {
   "cell_type": "code",
   "execution_count": 84,
   "id": "b06ddcd9-7308-4db3-a2d0-ee594efef02b",
   "metadata": {},
   "outputs": [
    {
     "name": "stdout",
     "output_type": "stream",
     "text": [
      " * sqlite:///TMDB.db\n",
      "1 rows affected.\n"
     ]
    },
    {
     "data": {
      "text/plain": [
       "[]"
      ]
     },
     "execution_count": 84,
     "metadata": {},
     "output_type": "execute_result"
    }
   ],
   "source": [
    "%%sql\n",
    "\n",
    "DELETE FROM movies\n",
    "WHERE budget = 0 and runtime = 0 and revenue = 0 and popularity = 0"
   ]
  },
  {
   "cell_type": "markdown",
   "id": "3864eafa-984a-460e-b5b0-80037c59cb20",
   "metadata": {},
   "source": [
    "The analysis indicated that one movie has zero values for all numerical columns which suggested missing values hence that row was deleted since it is not relevant to our data and might skew the analysis."
   ]
  },
  {
   "cell_type": "code",
   "execution_count": 107,
   "id": "2f6ab8b4-e165-4407-ab68-b2ac1c08faa3",
   "metadata": {},
   "outputs": [
    {
     "name": "stdout",
     "output_type": "stream",
     "text": [
      " * sqlite:///TMDB.db\n",
      "Done.\n"
     ]
    },
    {
     "data": {
      "text/html": [
       "<table>\n",
       "    <tr>\n",
       "        <th>zero_values</th>\n",
       "    </tr>\n",
       "    <tr>\n",
       "        <td>1036</td>\n",
       "    </tr>\n",
       "</table>"
      ],
      "text/plain": [
       "[(1036,)]"
      ]
     },
     "execution_count": 107,
     "metadata": {},
     "output_type": "execute_result"
    }
   ],
   "source": [
    "%%sql\n",
    "\n",
    "SELECT COUNT(*) as zero_values FROM movies\n",
    "WHERE budget = 0"
   ]
  },
  {
   "cell_type": "code",
   "execution_count": 108,
   "id": "d4d3b3ac-aa45-480d-a5b9-996e60576bd2",
   "metadata": {},
   "outputs": [
    {
     "name": "stdout",
     "output_type": "stream",
     "text": [
      " * sqlite:///TMDB.db\n",
      "4802 rows affected.\n"
     ]
    },
    {
     "data": {
      "text/plain": [
       "[]"
      ]
     },
     "execution_count": 108,
     "metadata": {},
     "output_type": "execute_result"
    }
   ],
   "source": [
    "%%sql\n",
    "\n",
    "UPDATE movies\n",
    "SET budget = NULLIF(budget, 0),\n",
    "    runtime = NULLIF(runtime, 0),\n",
    "    revenue = NULLIF(revenue, 0),\n",
    "    popularity = NULLIF(popularity, 0),\n",
    "    vote_count = NULLIF(vote_count, 0),\n",
    "    vote_average = NULLIF(vote_average, 0);"
   ]
  },
  {
   "cell_type": "markdown",
   "id": "75c53253-d4ab-4f02-90b6-2ebc2dddaa43",
   "metadata": {},
   "source": [
    "The Analysis indicated that about 22% of the rows in movies table contained at least one 0 value in the numerical columns i.e. budget, popularity, revenue etc which affected the analysis and range of the data, hence, the zero values were replaced with 'NULL' since it is assumed that those values are missing data.\n",
    "\n",
    "After replacing the 0 values with 'NULL' the range of the data changed significantly. For instance, the minimum value of the revenue column was 0.00 and the average revenue was 82277769.0 before the 0 values were replaced with 'NULL' and the after the change the values were 5.0 and 117031353.0 respectively.\r",
    "\r\n"
   ]
  },
  {
   "cell_type": "markdown",
   "id": "572874d7-0573-4c56-9800-ed7721ec76e0",
   "metadata": {},
   "source": [
    "## Analyzing the rest of the tables in the dataset"
   ]
  },
  {
   "cell_type": "code",
   "execution_count": 133,
   "id": "8a55fe24-15f7-465e-b9b1-c0bd364ff019",
   "metadata": {},
   "outputs": [
    {
     "name": "stdout",
     "output_type": "stream",
     "text": [
      " * sqlite:///TMDB.db\n",
      "Done.\n"
     ]
    },
    {
     "data": {
      "text/html": [
       "<table>\n",
       "    <tr>\n",
       "        <th>cid</th>\n",
       "        <th>name</th>\n",
       "        <th>type</th>\n",
       "        <th>notnull</th>\n",
       "        <th>dflt_value</th>\n",
       "        <th>pk</th>\n",
       "    </tr>\n",
       "    <tr>\n",
       "        <td>0</td>\n",
       "        <td>genre_id</td>\n",
       "        <td>INTEGER</td>\n",
       "        <td>1</td>\n",
       "        <td>None</td>\n",
       "        <td>1</td>\n",
       "    </tr>\n",
       "    <tr>\n",
       "        <td>1</td>\n",
       "        <td>genre_name</td>\n",
       "        <td>varchar(50)</td>\n",
       "        <td>0</td>\n",
       "        <td>NULL</td>\n",
       "        <td>0</td>\n",
       "    </tr>\n",
       "</table>"
      ],
      "text/plain": [
       "[(0, 'genre_id', 'INTEGER', 1, None, 1),\n",
       " (1, 'genre_name', 'varchar(50)', 0, 'NULL', 0)]"
      ]
     },
     "execution_count": 133,
     "metadata": {},
     "output_type": "execute_result"
    }
   ],
   "source": [
    "%%sql\n",
    "\n",
    "PRAGMA table_info(genres);"
   ]
  },
  {
   "cell_type": "code",
   "execution_count": 135,
   "id": "b8d68b30-d8bd-46aa-92e4-3a0c177c4169",
   "metadata": {},
   "outputs": [
    {
     "name": "stdout",
     "output_type": "stream",
     "text": [
      " * sqlite:///TMDB.db\n",
      "Done.\n"
     ]
    },
    {
     "data": {
      "text/html": [
       "<table>\n",
       "    <tr>\n",
       "        <th>cid</th>\n",
       "        <th>name</th>\n",
       "        <th>type</th>\n",
       "        <th>notnull</th>\n",
       "        <th>dflt_value</th>\n",
       "        <th>pk</th>\n",
       "    </tr>\n",
       "    <tr>\n",
       "        <td>0</td>\n",
       "        <td>movie_id</td>\n",
       "        <td>INTEGER</td>\n",
       "        <td>1</td>\n",
       "        <td>None</td>\n",
       "        <td>1</td>\n",
       "    </tr>\n",
       "    <tr>\n",
       "        <td>1</td>\n",
       "        <td>genre_id</td>\n",
       "        <td>INTEGER</td>\n",
       "        <td>1</td>\n",
       "        <td>None</td>\n",
       "        <td>2</td>\n",
       "    </tr>\n",
       "</table>"
      ],
      "text/plain": [
       "[(0, 'movie_id', 'INTEGER', 1, None, 1),\n",
       " (1, 'genre_id', 'INTEGER', 1, None, 2)]"
      ]
     },
     "execution_count": 135,
     "metadata": {},
     "output_type": "execute_result"
    }
   ],
   "source": [
    "%%sql\n",
    "\n",
    "PRAGMA table_info(genremap);"
   ]
  },
  {
   "cell_type": "code",
   "execution_count": 136,
   "id": "5a96a21d-bf68-4879-b671-574946d83781",
   "metadata": {},
   "outputs": [
    {
     "name": "stdout",
     "output_type": "stream",
     "text": [
      " * sqlite:///TMDB.db\n",
      "Done.\n"
     ]
    },
    {
     "data": {
      "text/html": [
       "<table>\n",
       "    <tr>\n",
       "        <th>cid</th>\n",
       "        <th>name</th>\n",
       "        <th>type</th>\n",
       "        <th>notnull</th>\n",
       "        <th>dflt_value</th>\n",
       "        <th>pk</th>\n",
       "    </tr>\n",
       "    <tr>\n",
       "        <td>0</td>\n",
       "        <td>actor_id</td>\n",
       "        <td>INTEGER</td>\n",
       "        <td>1</td>\n",
       "        <td>None</td>\n",
       "        <td>1</td>\n",
       "    </tr>\n",
       "    <tr>\n",
       "        <td>1</td>\n",
       "        <td>actor_name</td>\n",
       "        <td>varchar(100)</td>\n",
       "        <td>0</td>\n",
       "        <td>NULL</td>\n",
       "        <td>0</td>\n",
       "    </tr>\n",
       "    <tr>\n",
       "        <td>2</td>\n",
       "        <td>gender</td>\n",
       "        <td>INTEGER</td>\n",
       "        <td>0</td>\n",
       "        <td>NULL</td>\n",
       "        <td>0</td>\n",
       "    </tr>\n",
       "</table>"
      ],
      "text/plain": [
       "[(0, 'actor_id', 'INTEGER', 1, None, 1),\n",
       " (1, 'actor_name', 'varchar(100)', 0, 'NULL', 0),\n",
       " (2, 'gender', 'INTEGER', 0, 'NULL', 0)]"
      ]
     },
     "execution_count": 136,
     "metadata": {},
     "output_type": "execute_result"
    }
   ],
   "source": [
    "%%sql\n",
    "\n",
    "PRAGMA table_info(actors);"
   ]
  },
  {
   "cell_type": "code",
   "execution_count": 224,
   "id": "dd1f6131-29f2-40e3-8767-750e24edf8fa",
   "metadata": {},
   "outputs": [
    {
     "name": "stdout",
     "output_type": "stream",
     "text": [
      " * sqlite:///TMDB.db\n",
      "Done.\n"
     ]
    },
    {
     "data": {
      "text/html": [
       "<table>\n",
       "    <tr>\n",
       "        <th>cid</th>\n",
       "        <th>name</th>\n",
       "        <th>type</th>\n",
       "        <th>notnull</th>\n",
       "        <th>dflt_value</th>\n",
       "        <th>pk</th>\n",
       "    </tr>\n",
       "    <tr>\n",
       "        <td>0</td>\n",
       "        <td>movie_id</td>\n",
       "        <td>INTEGER</td>\n",
       "        <td>1</td>\n",
       "        <td>None</td>\n",
       "        <td>1</td>\n",
       "    </tr>\n",
       "    <tr>\n",
       "        <td>1</td>\n",
       "        <td>actor_id</td>\n",
       "        <td>INTEGER</td>\n",
       "        <td>1</td>\n",
       "        <td>None</td>\n",
       "        <td>2</td>\n",
       "    </tr>\n",
       "    <tr>\n",
       "        <td>2</td>\n",
       "        <td>characters</td>\n",
       "        <td>varchar(500)</td>\n",
       "        <td>1</td>\n",
       "        <td>None</td>\n",
       "        <td>3</td>\n",
       "    </tr>\n",
       "</table>"
      ],
      "text/plain": [
       "[(0, 'movie_id', 'INTEGER', 1, None, 1),\n",
       " (1, 'actor_id', 'INTEGER', 1, None, 2),\n",
       " (2, 'characters', 'varchar(500)', 1, None, 3)]"
      ]
     },
     "execution_count": 224,
     "metadata": {},
     "output_type": "execute_result"
    }
   ],
   "source": [
    "%%sql\n",
    "\n",
    "PRAGMA table_info(casts);"
   ]
  },
  {
   "cell_type": "code",
   "execution_count": 137,
   "id": "d83f43c1-919d-4872-9654-9c4ac8fd168a",
   "metadata": {},
   "outputs": [
    {
     "name": "stdout",
     "output_type": "stream",
     "text": [
      " * sqlite:///TMDB.db\n",
      "Done.\n"
     ]
    },
    {
     "data": {
      "text/html": [
       "<table>\n",
       "    <tr>\n",
       "        <th>cid</th>\n",
       "        <th>name</th>\n",
       "        <th>type</th>\n",
       "        <th>notnull</th>\n",
       "        <th>dflt_value</th>\n",
       "        <th>pk</th>\n",
       "    </tr>\n",
       "    <tr>\n",
       "        <td>0</td>\n",
       "        <td>year</td>\n",
       "        <td>varchar(10)</td>\n",
       "        <td>0</td>\n",
       "        <td>NULL</td>\n",
       "        <td>0</td>\n",
       "    </tr>\n",
       "    <tr>\n",
       "        <td>1</td>\n",
       "        <td>award</td>\n",
       "        <td>varchar(500)</td>\n",
       "        <td>0</td>\n",
       "        <td>NULL</td>\n",
       "        <td>0</td>\n",
       "    </tr>\n",
       "    <tr>\n",
       "        <td>2</td>\n",
       "        <td>winner</td>\n",
       "        <td>varchar(10)</td>\n",
       "        <td>0</td>\n",
       "        <td>NULL</td>\n",
       "        <td>0</td>\n",
       "    </tr>\n",
       "    <tr>\n",
       "        <td>3</td>\n",
       "        <td>name</td>\n",
       "        <td>varchar(500)</td>\n",
       "        <td>0</td>\n",
       "        <td>NULL</td>\n",
       "        <td>0</td>\n",
       "    </tr>\n",
       "    <tr>\n",
       "        <td>4</td>\n",
       "        <td>film</td>\n",
       "        <td>varchar(500)</td>\n",
       "        <td>0</td>\n",
       "        <td>NULL</td>\n",
       "        <td>0</td>\n",
       "    </tr>\n",
       "</table>"
      ],
      "text/plain": [
       "[(0, 'year', 'varchar(10)', 0, 'NULL', 0),\n",
       " (1, 'award', 'varchar(500)', 0, 'NULL', 0),\n",
       " (2, 'winner', 'varchar(10)', 0, 'NULL', 0),\n",
       " (3, 'name', 'varchar(500)', 0, 'NULL', 0),\n",
       " (4, 'film', 'varchar(500)', 0, 'NULL', 0)]"
      ]
     },
     "execution_count": 137,
     "metadata": {},
     "output_type": "execute_result"
    }
   ],
   "source": [
    "%%sql\n",
    "\n",
    "PRAGMA table_info(oscars);"
   ]
  },
  {
   "cell_type": "code",
   "execution_count": 219,
   "id": "6b79c581-208e-4a08-afa5-1fbaff8ebed3",
   "metadata": {},
   "outputs": [
    {
     "name": "stdout",
     "output_type": "stream",
     "text": [
      " * sqlite:///TMDB.db\n",
      "Done.\n"
     ]
    },
    {
     "data": {
      "text/html": [
       "<table>\n",
       "    <tr>\n",
       "        <th>cid</th>\n",
       "        <th>name</th>\n",
       "        <th>type</th>\n",
       "        <th>notnull</th>\n",
       "        <th>dflt_value</th>\n",
       "        <th>pk</th>\n",
       "    </tr>\n",
       "    <tr>\n",
       "        <td>0</td>\n",
       "        <td>production_company_id</td>\n",
       "        <td>INTEGER</td>\n",
       "        <td>1</td>\n",
       "        <td>None</td>\n",
       "        <td>1</td>\n",
       "    </tr>\n",
       "    <tr>\n",
       "        <td>1</td>\n",
       "        <td>production_company_name</td>\n",
       "        <td>varchar(500)</td>\n",
       "        <td>0</td>\n",
       "        <td>NULL</td>\n",
       "        <td>0</td>\n",
       "    </tr>\n",
       "</table>"
      ],
      "text/plain": [
       "[(0, 'production_company_id', 'INTEGER', 1, None, 1),\n",
       " (1, 'production_company_name', 'varchar(500)', 0, 'NULL', 0)]"
      ]
     },
     "execution_count": 219,
     "metadata": {},
     "output_type": "execute_result"
    }
   ],
   "source": [
    "%%sql\n",
    "\n",
    "PRAGMA table_info(productioncompanies);"
   ]
  },
  {
   "cell_type": "code",
   "execution_count": 222,
   "id": "2c548275-8f20-4bbd-8c11-dae51a3d9bd0",
   "metadata": {},
   "outputs": [
    {
     "name": "stdout",
     "output_type": "stream",
     "text": [
      " * sqlite:///TMDB.db\n",
      "Done.\n"
     ]
    },
    {
     "data": {
      "text/html": [
       "<table>\n",
       "    <tr>\n",
       "        <th>cid</th>\n",
       "        <th>name</th>\n",
       "        <th>type</th>\n",
       "        <th>notnull</th>\n",
       "        <th>dflt_value</th>\n",
       "        <th>pk</th>\n",
       "    </tr>\n",
       "    <tr>\n",
       "        <td>0</td>\n",
       "        <td>movie_id</td>\n",
       "        <td>INTEGER</td>\n",
       "        <td>1</td>\n",
       "        <td>None</td>\n",
       "        <td>1</td>\n",
       "    </tr>\n",
       "    <tr>\n",
       "        <td>1</td>\n",
       "        <td>production_company_id</td>\n",
       "        <td>INTEGER</td>\n",
       "        <td>1</td>\n",
       "        <td>None</td>\n",
       "        <td>2</td>\n",
       "    </tr>\n",
       "</table>"
      ],
      "text/plain": [
       "[(0, 'movie_id', 'INTEGER', 1, None, 1),\n",
       " (1, 'production_company_id', 'INTEGER', 1, None, 2)]"
      ]
     },
     "execution_count": 222,
     "metadata": {},
     "output_type": "execute_result"
    }
   ],
   "source": [
    "%%sql\n",
    "\n",
    "PRAGMA table_info(productioncompanymap);"
   ]
  },
  {
   "cell_type": "markdown",
   "id": "336a07db-918d-4b8b-9c60-bdf68aca9a9d",
   "metadata": {},
   "source": [
    "\n",
    "\n",
    "\n",
    "\n",
    "\n",
    "\n",
    "# Data Analysis"
   ]
  },
  {
   "cell_type": "markdown",
   "id": "dd3f9eef-7f13-4846-916d-e25ff55fb14f",
   "metadata": {},
   "source": [
    "### What are the top 5 highest-grossing movies in the dataset, and what can be inferred about their success?"
   ]
  },
  {
   "cell_type": "code",
   "execution_count": 241,
   "id": "6b5cf6a7-2348-4dcd-9c30-d48fe3f5fad9",
   "metadata": {},
   "outputs": [
    {
     "name": "stdout",
     "output_type": "stream",
     "text": [
      " * sqlite:///TMDB.db\n",
      "Done.\n"
     ]
    },
    {
     "data": {
      "text/html": [
       "<table>\n",
       "    <tr>\n",
       "        <th>title</th>\n",
       "        <th>year_released</th>\n",
       "        <th>genre_name</th>\n",
       "        <th>budget</th>\n",
       "        <th>revenue</th>\n",
       "        <th>ratings</th>\n",
       "    </tr>\n",
       "    <tr>\n",
       "        <td>Avatar</td>\n",
       "        <td>2009</td>\n",
       "        <td>Adventure</td>\n",
       "        <td>237000000</td>\n",
       "        <td>2787965087.0</td>\n",
       "        <td>7.2</td>\n",
       "    </tr>\n",
       "    <tr>\n",
       "        <td>Titanic</td>\n",
       "        <td>1997</td>\n",
       "        <td>Drama</td>\n",
       "        <td>200000000</td>\n",
       "        <td>1845034188.0</td>\n",
       "        <td>7.5</td>\n",
       "    </tr>\n",
       "    <tr>\n",
       "        <td>The Avengers</td>\n",
       "        <td>2012</td>\n",
       "        <td>Adventure</td>\n",
       "        <td>220000000</td>\n",
       "        <td>1519557910.0</td>\n",
       "        <td>7.4</td>\n",
       "    </tr>\n",
       "    <tr>\n",
       "        <td>Jurassic World</td>\n",
       "        <td>2015</td>\n",
       "        <td>Adventure</td>\n",
       "        <td>150000000</td>\n",
       "        <td>1513528810.0</td>\n",
       "        <td>6.5</td>\n",
       "    </tr>\n",
       "    <tr>\n",
       "        <td>Furious 7</td>\n",
       "        <td>2015</td>\n",
       "        <td>Action</td>\n",
       "        <td>190000000</td>\n",
       "        <td>1506249360.0</td>\n",
       "        <td>7.3</td>\n",
       "    </tr>\n",
       "</table>"
      ],
      "text/plain": [
       "[('Avatar', 2009, 'Adventure', 237000000, 2787965087.0, 7.2),\n",
       " ('Titanic', 1997, 'Drama', 200000000, 1845034188.0, 7.5),\n",
       " ('The Avengers', 2012, 'Adventure', 220000000, 1519557910.0, 7.4),\n",
       " ('Jurassic World', 2015, 'Adventure', 150000000, 1513528810.0, 6.5),\n",
       " ('Furious 7', 2015, 'Action', 190000000, 1506249360.0, 7.3)]"
      ]
     },
     "execution_count": 241,
     "metadata": {},
     "output_type": "execute_result"
    }
   ],
   "source": [
    "%%sql\n",
    "\n",
    "SELECT \n",
    "  title, \n",
    "  year_released, \n",
    "  genres.genre_name,\n",
    "  budget, \n",
    "  revenue, \n",
    "  vote_average as ratings\n",
    "FROM movies\n",
    "JOIN genremap ON movies.movie_id = genremap.movie_id\n",
    "JOIN genres ON genremap.genre_id = genres.genre_id\n",
    "GROUP BY \n",
    "  movies.title, \n",
    "  movies.year_released, \n",
    "  movies.budget, \n",
    "  movies.revenue, \n",
    "  movies.vote_average\n",
    "ORDER BY \n",
    "  revenue DESC\n",
    "LIMIT 5;"
   ]
  },
  {
   "cell_type": "markdown",
   "id": "fe018397-6d23-4b87-9b25-034aba40d455",
   "metadata": {},
   "source": [
    "#### Key Findings:\n",
    "\n",
    "- Avatar (2009) and Titanic (1997) are the top-grossing movies, with revenues of 2.78 billion and 1.84 billion, respectively.\n",
    "- The Adventure genre dominates, with 3 out of 5 movies falling under this category.\n",
    "- Budget and revenue are strongly correlated, but Furious 7 is an exception, achieving high revenue with a relatively lower budget.\n",
    "- All movies have high vote averages (6.5-7.5), with Titanic standing out as a particularly well-loved film.\n",
    "- Most top-grossing movies are recent, with 4 out of 5 released in the 2010s."
   ]
  },
  {
   "cell_type": "markdown",
   "id": "6cc8d421-8535-4808-807b-7e388109ca35",
   "metadata": {},
   "source": [
    "### Is there a correlation between a movie's budget and its box office revenue? How strong is this correlation?"
   ]
  },
  {
   "cell_type": "code",
   "execution_count": 198,
   "id": "792cce57-8ed0-4f1a-a4b8-ebd196c94e0e",
   "metadata": {},
   "outputs": [
    {
     "name": "stdout",
     "output_type": "stream",
     "text": [
      " * sqlite:///TMDB.db\n",
      "Done.\n"
     ]
    },
    {
     "data": {
      "text/html": [
       "<table>\n",
       "    <tr>\n",
       "        <th>correlation_coefficient</th>\n",
       "    </tr>\n",
       "    <tr>\n",
       "        <td>2.4270143958887464e-20</td>\n",
       "    </tr>\n",
       "</table>"
      ],
      "text/plain": [
       "[(2.4270143958887464e-20,)]"
      ]
     },
     "execution_count": 198,
     "metadata": {},
     "output_type": "execute_result"
    }
   ],
   "source": [
    "%%sql\n",
    "\n",
    "WITH corr_data AS (\n",
    "  SELECT \n",
    "    budget,\n",
    "    revenue,\n",
    "    AVG(budget) OVER () AS avg_budget,\n",
    "    AVG(revenue) OVER () AS avg_revenue,\n",
    "    COUNT(*) OVER () AS count\n",
    "  FROM \n",
    "    movies\n",
    ")\n",
    "SELECT \n",
    "  SUM((budget - avg_budget) * (revenue - avg_revenue)) / \n",
    "  ((SUM((budget - avg_budget) * (budget - avg_budget)) * SUM((revenue - avg_revenue) * (revenue - avg_revenue))) * 1.0) AS correlation_coefficient\n",
    "FROM \n",
    "  corr_data;"
   ]
  },
  {
   "cell_type": "markdown",
   "id": "5686a53e-54b4-4a00-8107-4c3eceea9f2a",
   "metadata": {},
   "source": [
    "A correlation coefficient of 2.4270143958887464e-20 is an extremely small value, indicating that there is essentially no correlation between the two variables (budget and revenue). This means that the budget and revenue values do not tend to move together in a predictable way, and there is no significant linear relationship between them.\r\n"
   ]
  },
  {
   "cell_type": "markdown",
   "id": "693c6cf7-fc6f-434b-afd8-42d62c1cd359",
   "metadata": {},
   "source": [
    "### What is the trend in the number of movies released each year? Are there noticeable peaks or declines over time?"
   ]
  },
  {
   "cell_type": "code",
   "execution_count": 216,
   "id": "ec54b487-f4cd-4fcc-9e28-cd2237535432",
   "metadata": {},
   "outputs": [
    {
     "name": "stdout",
     "output_type": "stream",
     "text": [
      " * sqlite:///TMDB.db\n",
      "Done.\n"
     ]
    },
    {
     "data": {
      "text/html": [
       "<table>\n",
       "    <tr>\n",
       "        <th>year_released</th>\n",
       "        <th>num_movies</th>\n",
       "    </tr>\n",
       "    <tr>\n",
       "        <td>1916</td>\n",
       "        <td>1</td>\n",
       "    </tr>\n",
       "    <tr>\n",
       "        <td>1925</td>\n",
       "        <td>1</td>\n",
       "    </tr>\n",
       "    <tr>\n",
       "        <td>1927</td>\n",
       "        <td>1</td>\n",
       "    </tr>\n",
       "    <tr>\n",
       "        <td>1929</td>\n",
       "        <td>2</td>\n",
       "    </tr>\n",
       "    <tr>\n",
       "        <td>1930</td>\n",
       "        <td>1</td>\n",
       "    </tr>\n",
       "    <tr>\n",
       "        <td>1932</td>\n",
       "        <td>1</td>\n",
       "    </tr>\n",
       "    <tr>\n",
       "        <td>1933</td>\n",
       "        <td>2</td>\n",
       "    </tr>\n",
       "    <tr>\n",
       "        <td>1934</td>\n",
       "        <td>1</td>\n",
       "    </tr>\n",
       "    <tr>\n",
       "        <td>1935</td>\n",
       "        <td>1</td>\n",
       "    </tr>\n",
       "    <tr>\n",
       "        <td>1936</td>\n",
       "        <td>2</td>\n",
       "    </tr>\n",
       "    <tr>\n",
       "        <td>1937</td>\n",
       "        <td>2</td>\n",
       "    </tr>\n",
       "    <tr>\n",
       "        <td>1938</td>\n",
       "        <td>2</td>\n",
       "    </tr>\n",
       "    <tr>\n",
       "        <td>1939</td>\n",
       "        <td>3</td>\n",
       "    </tr>\n",
       "    <tr>\n",
       "        <td>1940</td>\n",
       "        <td>5</td>\n",
       "    </tr>\n",
       "    <tr>\n",
       "        <td>1941</td>\n",
       "        <td>1</td>\n",
       "    </tr>\n",
       "    <tr>\n",
       "        <td>1942</td>\n",
       "        <td>2</td>\n",
       "    </tr>\n",
       "    <tr>\n",
       "        <td>1944</td>\n",
       "        <td>2</td>\n",
       "    </tr>\n",
       "    <tr>\n",
       "        <td>1945</td>\n",
       "        <td>4</td>\n",
       "    </tr>\n",
       "    <tr>\n",
       "        <td>1946</td>\n",
       "        <td>3</td>\n",
       "    </tr>\n",
       "    <tr>\n",
       "        <td>1947</td>\n",
       "        <td>3</td>\n",
       "    </tr>\n",
       "    <tr>\n",
       "        <td>1948</td>\n",
       "        <td>3</td>\n",
       "    </tr>\n",
       "    <tr>\n",
       "        <td>1949</td>\n",
       "        <td>2</td>\n",
       "    </tr>\n",
       "    <tr>\n",
       "        <td>1950</td>\n",
       "        <td>1</td>\n",
       "    </tr>\n",
       "    <tr>\n",
       "        <td>1951</td>\n",
       "        <td>3</td>\n",
       "    </tr>\n",
       "    <tr>\n",
       "        <td>1952</td>\n",
       "        <td>4</td>\n",
       "    </tr>\n",
       "    <tr>\n",
       "        <td>1953</td>\n",
       "        <td>4</td>\n",
       "    </tr>\n",
       "    <tr>\n",
       "        <td>1954</td>\n",
       "        <td>4</td>\n",
       "    </tr>\n",
       "    <tr>\n",
       "        <td>1955</td>\n",
       "        <td>2</td>\n",
       "    </tr>\n",
       "    <tr>\n",
       "        <td>1956</td>\n",
       "        <td>3</td>\n",
       "    </tr>\n",
       "    <tr>\n",
       "        <td>1957</td>\n",
       "        <td>2</td>\n",
       "    </tr>\n",
       "    <tr>\n",
       "        <td>1958</td>\n",
       "        <td>1</td>\n",
       "    </tr>\n",
       "    <tr>\n",
       "        <td>1959</td>\n",
       "        <td>3</td>\n",
       "    </tr>\n",
       "    <tr>\n",
       "        <td>1960</td>\n",
       "        <td>3</td>\n",
       "    </tr>\n",
       "    <tr>\n",
       "        <td>1961</td>\n",
       "        <td>5</td>\n",
       "    </tr>\n",
       "    <tr>\n",
       "        <td>1962</td>\n",
       "        <td>7</td>\n",
       "    </tr>\n",
       "    <tr>\n",
       "        <td>1963</td>\n",
       "        <td>8</td>\n",
       "    </tr>\n",
       "    <tr>\n",
       "        <td>1964</td>\n",
       "        <td>10</td>\n",
       "    </tr>\n",
       "    <tr>\n",
       "        <td>1965</td>\n",
       "        <td>8</td>\n",
       "    </tr>\n",
       "    <tr>\n",
       "        <td>1966</td>\n",
       "        <td>6</td>\n",
       "    </tr>\n",
       "    <tr>\n",
       "        <td>1967</td>\n",
       "        <td>4</td>\n",
       "    </tr>\n",
       "    <tr>\n",
       "        <td>1968</td>\n",
       "        <td>10</td>\n",
       "    </tr>\n",
       "    <tr>\n",
       "        <td>1969</td>\n",
       "        <td>10</td>\n",
       "    </tr>\n",
       "    <tr>\n",
       "        <td>1970</td>\n",
       "        <td>12</td>\n",
       "    </tr>\n",
       "    <tr>\n",
       "        <td>1971</td>\n",
       "        <td>10</td>\n",
       "    </tr>\n",
       "    <tr>\n",
       "        <td>1972</td>\n",
       "        <td>9</td>\n",
       "    </tr>\n",
       "    <tr>\n",
       "        <td>1973</td>\n",
       "        <td>9</td>\n",
       "    </tr>\n",
       "    <tr>\n",
       "        <td>1974</td>\n",
       "        <td>8</td>\n",
       "    </tr>\n",
       "    <tr>\n",
       "        <td>1975</td>\n",
       "        <td>6</td>\n",
       "    </tr>\n",
       "    <tr>\n",
       "        <td>1976</td>\n",
       "        <td>9</td>\n",
       "    </tr>\n",
       "    <tr>\n",
       "        <td>1977</td>\n",
       "        <td>16</td>\n",
       "    </tr>\n",
       "    <tr>\n",
       "        <td>1978</td>\n",
       "        <td>14</td>\n",
       "    </tr>\n",
       "    <tr>\n",
       "        <td>1979</td>\n",
       "        <td>16</td>\n",
       "    </tr>\n",
       "    <tr>\n",
       "        <td>1980</td>\n",
       "        <td>22</td>\n",
       "    </tr>\n",
       "    <tr>\n",
       "        <td>1981</td>\n",
       "        <td>33</td>\n",
       "    </tr>\n",
       "    <tr>\n",
       "        <td>1982</td>\n",
       "        <td>24</td>\n",
       "    </tr>\n",
       "    <tr>\n",
       "        <td>1983</td>\n",
       "        <td>23</td>\n",
       "    </tr>\n",
       "    <tr>\n",
       "        <td>1984</td>\n",
       "        <td>28</td>\n",
       "    </tr>\n",
       "    <tr>\n",
       "        <td>1985</td>\n",
       "        <td>28</td>\n",
       "    </tr>\n",
       "    <tr>\n",
       "        <td>1986</td>\n",
       "        <td>26</td>\n",
       "    </tr>\n",
       "    <tr>\n",
       "        <td>1987</td>\n",
       "        <td>31</td>\n",
       "    </tr>\n",
       "    <tr>\n",
       "        <td>1988</td>\n",
       "        <td>31</td>\n",
       "    </tr>\n",
       "    <tr>\n",
       "        <td>1989</td>\n",
       "        <td>32</td>\n",
       "    </tr>\n",
       "    <tr>\n",
       "        <td>1990</td>\n",
       "        <td>29</td>\n",
       "    </tr>\n",
       "    <tr>\n",
       "        <td>1991</td>\n",
       "        <td>30</td>\n",
       "    </tr>\n",
       "    <tr>\n",
       "        <td>1992</td>\n",
       "        <td>34</td>\n",
       "    </tr>\n",
       "    <tr>\n",
       "        <td>1993</td>\n",
       "        <td>47</td>\n",
       "    </tr>\n",
       "    <tr>\n",
       "        <td>1994</td>\n",
       "        <td>55</td>\n",
       "    </tr>\n",
       "    <tr>\n",
       "        <td>1995</td>\n",
       "        <td>70</td>\n",
       "    </tr>\n",
       "    <tr>\n",
       "        <td>1996</td>\n",
       "        <td>97</td>\n",
       "    </tr>\n",
       "    <tr>\n",
       "        <td>1997</td>\n",
       "        <td>112</td>\n",
       "    </tr>\n",
       "    <tr>\n",
       "        <td>1998</td>\n",
       "        <td>133</td>\n",
       "    </tr>\n",
       "    <tr>\n",
       "        <td>1999</td>\n",
       "        <td>171</td>\n",
       "    </tr>\n",
       "    <tr>\n",
       "        <td>2000</td>\n",
       "        <td>166</td>\n",
       "    </tr>\n",
       "    <tr>\n",
       "        <td>2001</td>\n",
       "        <td>183</td>\n",
       "    </tr>\n",
       "    <tr>\n",
       "        <td>2002</td>\n",
       "        <td>203</td>\n",
       "    </tr>\n",
       "    <tr>\n",
       "        <td>2003</td>\n",
       "        <td>169</td>\n",
       "    </tr>\n",
       "    <tr>\n",
       "        <td>2004</td>\n",
       "        <td>204</td>\n",
       "    </tr>\n",
       "    <tr>\n",
       "        <td>2005</td>\n",
       "        <td>217</td>\n",
       "    </tr>\n",
       "    <tr>\n",
       "        <td>2006</td>\n",
       "        <td>237</td>\n",
       "    </tr>\n",
       "    <tr>\n",
       "        <td>2007</td>\n",
       "        <td>195</td>\n",
       "    </tr>\n",
       "    <tr>\n",
       "        <td>2008</td>\n",
       "        <td>227</td>\n",
       "    </tr>\n",
       "    <tr>\n",
       "        <td>2009</td>\n",
       "        <td>247</td>\n",
       "    </tr>\n",
       "    <tr>\n",
       "        <td>2010</td>\n",
       "        <td>225</td>\n",
       "    </tr>\n",
       "    <tr>\n",
       "        <td>2011</td>\n",
       "        <td>223</td>\n",
       "    </tr>\n",
       "    <tr>\n",
       "        <td>2012</td>\n",
       "        <td>208</td>\n",
       "    </tr>\n",
       "    <tr>\n",
       "        <td>2013</td>\n",
       "        <td>231</td>\n",
       "    </tr>\n",
       "    <tr>\n",
       "        <td>2014</td>\n",
       "        <td>238</td>\n",
       "    </tr>\n",
       "    <tr>\n",
       "        <td>2015</td>\n",
       "        <td>216</td>\n",
       "    </tr>\n",
       "    <tr>\n",
       "        <td>2016</td>\n",
       "        <td>104</td>\n",
       "    </tr>\n",
       "</table>"
      ],
      "text/plain": [
       "[(1916, 1),\n",
       " (1925, 1),\n",
       " (1927, 1),\n",
       " (1929, 2),\n",
       " (1930, 1),\n",
       " (1932, 1),\n",
       " (1933, 2),\n",
       " (1934, 1),\n",
       " (1935, 1),\n",
       " (1936, 2),\n",
       " (1937, 2),\n",
       " (1938, 2),\n",
       " (1939, 3),\n",
       " (1940, 5),\n",
       " (1941, 1),\n",
       " (1942, 2),\n",
       " (1944, 2),\n",
       " (1945, 4),\n",
       " (1946, 3),\n",
       " (1947, 3),\n",
       " (1948, 3),\n",
       " (1949, 2),\n",
       " (1950, 1),\n",
       " (1951, 3),\n",
       " (1952, 4),\n",
       " (1953, 4),\n",
       " (1954, 4),\n",
       " (1955, 2),\n",
       " (1956, 3),\n",
       " (1957, 2),\n",
       " (1958, 1),\n",
       " (1959, 3),\n",
       " (1960, 3),\n",
       " (1961, 5),\n",
       " (1962, 7),\n",
       " (1963, 8),\n",
       " (1964, 10),\n",
       " (1965, 8),\n",
       " (1966, 6),\n",
       " (1967, 4),\n",
       " (1968, 10),\n",
       " (1969, 10),\n",
       " (1970, 12),\n",
       " (1971, 10),\n",
       " (1972, 9),\n",
       " (1973, 9),\n",
       " (1974, 8),\n",
       " (1975, 6),\n",
       " (1976, 9),\n",
       " (1977, 16),\n",
       " (1978, 14),\n",
       " (1979, 16),\n",
       " (1980, 22),\n",
       " (1981, 33),\n",
       " (1982, 24),\n",
       " (1983, 23),\n",
       " (1984, 28),\n",
       " (1985, 28),\n",
       " (1986, 26),\n",
       " (1987, 31),\n",
       " (1988, 31),\n",
       " (1989, 32),\n",
       " (1990, 29),\n",
       " (1991, 30),\n",
       " (1992, 34),\n",
       " (1993, 47),\n",
       " (1994, 55),\n",
       " (1995, 70),\n",
       " (1996, 97),\n",
       " (1997, 112),\n",
       " (1998, 133),\n",
       " (1999, 171),\n",
       " (2000, 166),\n",
       " (2001, 183),\n",
       " (2002, 203),\n",
       " (2003, 169),\n",
       " (2004, 204),\n",
       " (2005, 217),\n",
       " (2006, 237),\n",
       " (2007, 195),\n",
       " (2008, 227),\n",
       " (2009, 247),\n",
       " (2010, 225),\n",
       " (2011, 223),\n",
       " (2012, 208),\n",
       " (2013, 231),\n",
       " (2014, 238),\n",
       " (2015, 216),\n",
       " (2016, 104)]"
      ]
     },
     "execution_count": 216,
     "metadata": {},
     "output_type": "execute_result"
    }
   ],
   "source": [
    "%%sql\n",
    "\n",
    "SELECT \n",
    "  year_released,\n",
    "  COUNT(*) AS num_movies\n",
    "FROM \n",
    "  movies\n",
    "GROUP BY \n",
    "  year_released\n",
    "ORDER BY \n",
    "  year_released;"
   ]
  },
  {
   "cell_type": "markdown",
   "id": "738bf491-d184-41fc-a164-2f18a1265ea6",
   "metadata": {},
   "source": [
    "The overall trend is an increasing trend, with a few noticeable peaks and declines over time. The number of movies released each year has generally increased over the decades, with some fluctuations.\n",
    "\n",
    "#### Key Findings:\n",
    "\n",
    "- Two notable peaks: 1990s-2000s and 2005-2009, with the highest number of movies released in 2009 (247).\n",
    "- Two notable declines: 1940s-1950s (post-war era) and 2016 (104 movies released).\n",
    "- Early years: Slow start with few movies released each year.\n",
    "- Consistency: Despite peaks and declines, the number of movies released has generally increased over time.\n",
    "\n",
    "#### Possible Factors Influencing the Trend:\n",
    "\n",
    "- Technological advancements: Improvements in film technology, editing software, and digital distribution platforms might have contributed to the increase in movie production.\n",
    "- Globalization: The growth of the global film industry, international co-productions, and the increasing popularity of cinema worldwide might have led to an increase in movie production.\n",
    "- Changes in consumer behavior: Shifts in consumer preferences, such as the rise of streaming services and online content, might have influenced the number of movies released each year.\n",
    "- Industry trends: Trends within the film industry, such as the rise of franchise films, superhero movies, or independent cinema, might have contributed to the fluctuations in movie production"
   ]
  },
  {
   "cell_type": "markdown",
   "id": "8d9da815-515a-46d6-9dfb-ba47e769030f",
   "metadata": {},
   "source": [
    "### Which actors or production companies are associated with the most successful movies in terms of box office revenue and ratings?"
   ]
  },
  {
   "cell_type": "code",
   "execution_count": 292,
   "id": "5e6711b9-45c7-404d-866e-999d4e6ff858",
   "metadata": {},
   "outputs": [
    {
     "name": "stdout",
     "output_type": "stream",
     "text": [
      " * sqlite:///TMDB.db\n",
      "Done.\n"
     ]
    },
    {
     "data": {
      "text/html": [
       "<table>\n",
       "    <tr>\n",
       "        <th>title</th>\n",
       "        <th>production_companies</th>\n",
       "        <th>actor_name</th>\n",
       "        <th>total_revenue</th>\n",
       "        <th>average_ratings</th>\n",
       "    </tr>\n",
       "    <tr>\n",
       "        <td>Avatar</td>\n",
       "        <td>Ingenious Film Partners</td>\n",
       "        <td>Giovanni Ribisi</td>\n",
       "        <td>2787965087.0</td>\n",
       "        <td>7.2</td>\n",
       "    </tr>\n",
       "    <tr>\n",
       "        <td>Titanic</td>\n",
       "        <td>Paramount Pictures</td>\n",
       "        <td>Kate Winslet</td>\n",
       "        <td>1845034188.0</td>\n",
       "        <td>7.5</td>\n",
       "    </tr>\n",
       "    <tr>\n",
       "        <td>The Avengers</td>\n",
       "        <td>Paramount Pictures</td>\n",
       "        <td>Mark Ruffalo</td>\n",
       "        <td>1519557910.0</td>\n",
       "        <td>7.4</td>\n",
       "    </tr>\n",
       "    <tr>\n",
       "        <td>Jurassic World</td>\n",
       "        <td>Universal Studios</td>\n",
       "        <td>Vincent D&#x27;Onofrio</td>\n",
       "        <td>1513528810.0</td>\n",
       "        <td>6.5</td>\n",
       "    </tr>\n",
       "    <tr>\n",
       "        <td>Furious 7</td>\n",
       "        <td>Universal Pictures</td>\n",
       "        <td>Lucas Black</td>\n",
       "        <td>1506249360.0</td>\n",
       "        <td>7.3</td>\n",
       "    </tr>\n",
       "    <tr>\n",
       "        <td>Avengers: Age of Ultron</td>\n",
       "        <td>Marvel Studios</td>\n",
       "        <td>Mark Ruffalo</td>\n",
       "        <td>1405403694.0</td>\n",
       "        <td>7.3</td>\n",
       "    </tr>\n",
       "    <tr>\n",
       "        <td>Frozen</td>\n",
       "        <td>Walt Disney Pictures</td>\n",
       "        <td>Edie McClurg</td>\n",
       "        <td>1274219009.0</td>\n",
       "        <td>7.3</td>\n",
       "    </tr>\n",
       "    <tr>\n",
       "        <td>Iron Man 3</td>\n",
       "        <td>Marvel Studios</td>\n",
       "        <td>Mark Ruffalo</td>\n",
       "        <td>1215439994.0</td>\n",
       "        <td>6.8</td>\n",
       "    </tr>\n",
       "    <tr>\n",
       "        <td>Minions</td>\n",
       "        <td>Universal Pictures</td>\n",
       "        <td>Allison Janney</td>\n",
       "        <td>1156730962.0</td>\n",
       "        <td>6.4</td>\n",
       "    </tr>\n",
       "    <tr>\n",
       "        <td>Captain America: Civil War</td>\n",
       "        <td>Studio Babelsberg</td>\n",
       "        <td>William Hurt</td>\n",
       "        <td>1153304495.0</td>\n",
       "        <td>7.1</td>\n",
       "    </tr>\n",
       "</table>"
      ],
      "text/plain": [
       "[('Avatar', 'Ingenious Film Partners', 'Giovanni Ribisi', 2787965087.0, 7.2),\n",
       " ('Titanic', 'Paramount Pictures', 'Kate Winslet', 1845034188.0, 7.5),\n",
       " ('The Avengers', 'Paramount Pictures', 'Mark Ruffalo', 1519557910.0, 7.4),\n",
       " ('Jurassic World', 'Universal Studios', \"Vincent D'Onofrio\", 1513528810.0, 6.5),\n",
       " ('Furious 7', 'Universal Pictures', 'Lucas Black', 1506249360.0, 7.3),\n",
       " ('Avengers: Age of Ultron', 'Marvel Studios', 'Mark Ruffalo', 1405403694.0, 7.3),\n",
       " ('Frozen', 'Walt Disney Pictures', 'Edie McClurg', 1274219009.0, 7.3),\n",
       " ('Iron Man 3', 'Marvel Studios', 'Mark Ruffalo', 1215439994.0, 6.8),\n",
       " ('Minions', 'Universal Pictures', 'Allison Janney', 1156730962.0, 6.4),\n",
       " ('Captain America: Civil War', 'Studio Babelsberg', 'William Hurt', 1153304495.0, 7.1)]"
      ]
     },
     "execution_count": 292,
     "metadata": {},
     "output_type": "execute_result"
    }
   ],
   "source": [
    "%%sql\n",
    "\n",
    "SELECT \n",
    "    movies.title, \n",
    "    productioncompanies.production_company_name AS production_companies, \n",
    "    actors.actor_name, \n",
    "    movies.revenue AS total_revenue, \n",
    "    vote_average AS average_ratings\n",
    "FROM \n",
    "    movies\n",
    "JOIN \n",
    "    casts ON movies.movie_id = casts.movie_id\n",
    "JOIN \n",
    "    actors ON casts.actor_id = actors.actor_id\n",
    "JOIN \n",
    "    productioncompanymap ON movies.movie_id = productioncompanymap.movie_id\n",
    "JOIN \n",
    "    productioncompanies ON productioncompanymap.production_company_id = productioncompanies.production_company_id\n",
    "GROUP BY \n",
    "    movies.title\n",
    "ORDER BY \n",
    "    total_revenue DESC\n",
    "LIMIT 10;"
   ]
  },
  {
   "cell_type": "markdown",
   "id": "b18609a0-bf5e-44c2-b0b6-c1756615af12",
   "metadata": {},
   "source": [
    "#### Key Findings:\n",
    "\n",
    "- Top-Grossing Movies: The data shows the top 10 highest-grossing movies, with Avatar being the highest-grossing movie with a total revenue of approximately $2.78 billion.\n",
    "\n",
    "- Production Companies: The data reveals that Universal Studios and Marvel Studios are the most represented production companies in the top 10, with two movies each. Paramount Pictures and Walt Disney Pictures also have two movies each.\n",
    "\n",
    "- Actors: Mark Ruffalo is the most represented actor in the top 10, with three movies: The Avengers, Avengers: Age of Ultron, and Iron Man 3.\n",
    "\n",
    "- Revenue and Ratings: There is a general trend of higher revenue corresponding to higher average ratings. However, there are some exceptions, such as Jurassic World, which has a relatively low average rating of 6.5 despite being the 4th highest-grossing movie.\n",
    "\n",
    "- Genre: Based on the titles, it appears that the top 10 is dominated by superhero movies (The Avengers, Avengers: Age of Ultron, Iron Man 3, Captain America: Civil War) and animated movies (Frozen, Minions)"
   ]
  },
  {
   "cell_type": "markdown",
   "id": "81fee718-7c9c-45de-93b8-8f3560e52043",
   "metadata": {},
   "source": [
    "### How do the average ratings of movies change over different decades or years? Are there any significant shifts in movie quality or audience preferences?"
   ]
  },
  {
   "cell_type": "code",
   "execution_count": 255,
   "id": "824eae54-edcf-4a3a-beed-8079dcdb3d23",
   "metadata": {},
   "outputs": [
    {
     "name": "stdout",
     "output_type": "stream",
     "text": [
      " * sqlite:///TMDB.db\n",
      "Done.\n"
     ]
    },
    {
     "data": {
      "text/html": [
       "<table>\n",
       "    <tr>\n",
       "        <th>year_released</th>\n",
       "        <th>average_rating</th>\n",
       "    </tr>\n",
       "    <tr>\n",
       "        <td>1916</td>\n",
       "        <td>7.4</td>\n",
       "    </tr>\n",
       "    <tr>\n",
       "        <td>1925</td>\n",
       "        <td>7.0</td>\n",
       "    </tr>\n",
       "    <tr>\n",
       "        <td>1927</td>\n",
       "        <td>8.0</td>\n",
       "    </tr>\n",
       "    <tr>\n",
       "        <td>1929</td>\n",
       "        <td>6.3</td>\n",
       "    </tr>\n",
       "    <tr>\n",
       "        <td>1930</td>\n",
       "        <td>6.1</td>\n",
       "    </tr>\n",
       "    <tr>\n",
       "        <td>1932</td>\n",
       "        <td>6.2</td>\n",
       "    </tr>\n",
       "    <tr>\n",
       "        <td>1933</td>\n",
       "        <td>5.6</td>\n",
       "    </tr>\n",
       "    <tr>\n",
       "        <td>1934</td>\n",
       "        <td>7.7</td>\n",
       "    </tr>\n",
       "    <tr>\n",
       "        <td>1935</td>\n",
       "        <td>7.4</td>\n",
       "    </tr>\n",
       "    <tr>\n",
       "        <td>1936</td>\n",
       "        <td>7.5</td>\n",
       "    </tr>\n",
       "    <tr>\n",
       "        <td>1937</td>\n",
       "        <td>7.7</td>\n",
       "    </tr>\n",
       "    <tr>\n",
       "        <td>1938</td>\n",
       "        <td>6.0</td>\n",
       "    </tr>\n",
       "    <tr>\n",
       "        <td>1939</td>\n",
       "        <td>7.7</td>\n",
       "    </tr>\n",
       "    <tr>\n",
       "        <td>1940</td>\n",
       "        <td>6.9</td>\n",
       "    </tr>\n",
       "    <tr>\n",
       "        <td>1941</td>\n",
       "        <td>6.8</td>\n",
       "    </tr>\n",
       "    <tr>\n",
       "        <td>1942</td>\n",
       "        <td>7.4</td>\n",
       "    </tr>\n",
       "    <tr>\n",
       "        <td>1944</td>\n",
       "        <td>6.5</td>\n",
       "    </tr>\n",
       "    <tr>\n",
       "        <td>1945</td>\n",
       "        <td>6.7</td>\n",
       "    </tr>\n",
       "    <tr>\n",
       "        <td>1946</td>\n",
       "        <td>7.3</td>\n",
       "    </tr>\n",
       "    <tr>\n",
       "        <td>1947</td>\n",
       "        <td>6.9</td>\n",
       "    </tr>\n",
       "    <tr>\n",
       "        <td>1948</td>\n",
       "        <td>7.0</td>\n",
       "    </tr>\n",
       "    <tr>\n",
       "        <td>1949</td>\n",
       "        <td>6.7</td>\n",
       "    </tr>\n",
       "    <tr>\n",
       "        <td>1950</td>\n",
       "        <td>7.3</td>\n",
       "    </tr>\n",
       "    <tr>\n",
       "        <td>1951</td>\n",
       "        <td>7.2</td>\n",
       "    </tr>\n",
       "    <tr>\n",
       "        <td>1952</td>\n",
       "        <td>7.2</td>\n",
       "    </tr>\n",
       "    <tr>\n",
       "        <td>1953</td>\n",
       "        <td>6.8</td>\n",
       "    </tr>\n",
       "    <tr>\n",
       "        <td>1954</td>\n",
       "        <td>7.3</td>\n",
       "    </tr>\n",
       "    <tr>\n",
       "        <td>1955</td>\n",
       "        <td>7.4</td>\n",
       "    </tr>\n",
       "    <tr>\n",
       "        <td>1956</td>\n",
       "        <td>6.3</td>\n",
       "    </tr>\n",
       "    <tr>\n",
       "        <td>1957</td>\n",
       "        <td>8.0</td>\n",
       "    </tr>\n",
       "    <tr>\n",
       "        <td>1958</td>\n",
       "        <td>7.6</td>\n",
       "    </tr>\n",
       "    <tr>\n",
       "        <td>1959</td>\n",
       "        <td>6.9</td>\n",
       "    </tr>\n",
       "    <tr>\n",
       "        <td>1960</td>\n",
       "        <td>7.9</td>\n",
       "    </tr>\n",
       "    <tr>\n",
       "        <td>1961</td>\n",
       "        <td>7.3</td>\n",
       "    </tr>\n",
       "    <tr>\n",
       "        <td>1962</td>\n",
       "        <td>7.0</td>\n",
       "    </tr>\n",
       "    <tr>\n",
       "        <td>1963</td>\n",
       "        <td>6.8</td>\n",
       "    </tr>\n",
       "    <tr>\n",
       "        <td>1964</td>\n",
       "        <td>7.2</td>\n",
       "    </tr>\n",
       "    <tr>\n",
       "        <td>1965</td>\n",
       "        <td>6.9</td>\n",
       "    </tr>\n",
       "    <tr>\n",
       "        <td>1966</td>\n",
       "        <td>6.7</td>\n",
       "    </tr>\n",
       "    <tr>\n",
       "        <td>1967</td>\n",
       "        <td>6.8</td>\n",
       "    </tr>\n",
       "    <tr>\n",
       "        <td>1968</td>\n",
       "        <td>6.9</td>\n",
       "    </tr>\n",
       "    <tr>\n",
       "        <td>1969</td>\n",
       "        <td>6.6</td>\n",
       "    </tr>\n",
       "    <tr>\n",
       "        <td>1970</td>\n",
       "        <td>6.7</td>\n",
       "    </tr>\n",
       "    <tr>\n",
       "        <td>1971</td>\n",
       "        <td>6.6</td>\n",
       "    </tr>\n",
       "    <tr>\n",
       "        <td>1972</td>\n",
       "        <td>7.0</td>\n",
       "    </tr>\n",
       "    <tr>\n",
       "        <td>1973</td>\n",
       "        <td>7.0</td>\n",
       "    </tr>\n",
       "    <tr>\n",
       "        <td>1974</td>\n",
       "        <td>7.2</td>\n",
       "    </tr>\n",
       "    <tr>\n",
       "        <td>1975</td>\n",
       "        <td>7.3</td>\n",
       "    </tr>\n",
       "    <tr>\n",
       "        <td>1976</td>\n",
       "        <td>7.1</td>\n",
       "    </tr>\n",
       "    <tr>\n",
       "        <td>1977</td>\n",
       "        <td>6.5</td>\n",
       "    </tr>\n",
       "    <tr>\n",
       "        <td>1978</td>\n",
       "        <td>6.6</td>\n",
       "    </tr>\n",
       "    <tr>\n",
       "        <td>1979</td>\n",
       "        <td>6.5</td>\n",
       "    </tr>\n",
       "    <tr>\n",
       "        <td>1980</td>\n",
       "        <td>6.6</td>\n",
       "    </tr>\n",
       "    <tr>\n",
       "        <td>1981</td>\n",
       "        <td>6.4</td>\n",
       "    </tr>\n",
       "    <tr>\n",
       "        <td>1982</td>\n",
       "        <td>6.4</td>\n",
       "    </tr>\n",
       "    <tr>\n",
       "        <td>1983</td>\n",
       "        <td>6.3</td>\n",
       "    </tr>\n",
       "    <tr>\n",
       "        <td>1984</td>\n",
       "        <td>6.5</td>\n",
       "    </tr>\n",
       "    <tr>\n",
       "        <td>1985</td>\n",
       "        <td>6.5</td>\n",
       "    </tr>\n",
       "    <tr>\n",
       "        <td>1986</td>\n",
       "        <td>6.2</td>\n",
       "    </tr>\n",
       "    <tr>\n",
       "        <td>1987</td>\n",
       "        <td>6.3</td>\n",
       "    </tr>\n",
       "    <tr>\n",
       "        <td>1988</td>\n",
       "        <td>6.3</td>\n",
       "    </tr>\n",
       "    <tr>\n",
       "        <td>1989</td>\n",
       "        <td>6.5</td>\n",
       "    </tr>\n",
       "    <tr>\n",
       "        <td>1990</td>\n",
       "        <td>6.5</td>\n",
       "    </tr>\n",
       "    <tr>\n",
       "        <td>1991</td>\n",
       "        <td>6.2</td>\n",
       "    </tr>\n",
       "    <tr>\n",
       "        <td>1992</td>\n",
       "        <td>6.6</td>\n",
       "    </tr>\n",
       "    <tr>\n",
       "        <td>1993</td>\n",
       "        <td>6.5</td>\n",
       "    </tr>\n",
       "    <tr>\n",
       "        <td>1994</td>\n",
       "        <td>6.3</td>\n",
       "    </tr>\n",
       "    <tr>\n",
       "        <td>1995</td>\n",
       "        <td>6.3</td>\n",
       "    </tr>\n",
       "    <tr>\n",
       "        <td>1996</td>\n",
       "        <td>6.1</td>\n",
       "    </tr>\n",
       "    <tr>\n",
       "        <td>1997</td>\n",
       "        <td>6.3</td>\n",
       "    </tr>\n",
       "    <tr>\n",
       "        <td>1998</td>\n",
       "        <td>6.3</td>\n",
       "    </tr>\n",
       "    <tr>\n",
       "        <td>1999</td>\n",
       "        <td>6.2</td>\n",
       "    </tr>\n",
       "    <tr>\n",
       "        <td>2000</td>\n",
       "        <td>6.0</td>\n",
       "    </tr>\n",
       "    <tr>\n",
       "        <td>2001</td>\n",
       "        <td>6.0</td>\n",
       "    </tr>\n",
       "    <tr>\n",
       "        <td>2002</td>\n",
       "        <td>6.1</td>\n",
       "    </tr>\n",
       "    <tr>\n",
       "        <td>2003</td>\n",
       "        <td>6.1</td>\n",
       "    </tr>\n",
       "    <tr>\n",
       "        <td>2004</td>\n",
       "        <td>6.1</td>\n",
       "    </tr>\n",
       "    <tr>\n",
       "        <td>2005</td>\n",
       "        <td>6.1</td>\n",
       "    </tr>\n",
       "    <tr>\n",
       "        <td>2006</td>\n",
       "        <td>6.2</td>\n",
       "    </tr>\n",
       "    <tr>\n",
       "        <td>2007</td>\n",
       "        <td>6.2</td>\n",
       "    </tr>\n",
       "    <tr>\n",
       "        <td>2008</td>\n",
       "        <td>6.1</td>\n",
       "    </tr>\n",
       "    <tr>\n",
       "        <td>2009</td>\n",
       "        <td>6.1</td>\n",
       "    </tr>\n",
       "    <tr>\n",
       "        <td>2010</td>\n",
       "        <td>6.1</td>\n",
       "    </tr>\n",
       "    <tr>\n",
       "        <td>2011</td>\n",
       "        <td>6.1</td>\n",
       "    </tr>\n",
       "    <tr>\n",
       "        <td>2012</td>\n",
       "        <td>6.0</td>\n",
       "    </tr>\n",
       "    <tr>\n",
       "        <td>2013</td>\n",
       "        <td>6.2</td>\n",
       "    </tr>\n",
       "    <tr>\n",
       "        <td>2014</td>\n",
       "        <td>6.0</td>\n",
       "    </tr>\n",
       "    <tr>\n",
       "        <td>2015</td>\n",
       "        <td>5.9</td>\n",
       "    </tr>\n",
       "    <tr>\n",
       "        <td>2016</td>\n",
       "        <td>5.9</td>\n",
       "    </tr>\n",
       "</table>"
      ],
      "text/plain": [
       "[(1916, 7.4),\n",
       " (1925, 7.0),\n",
       " (1927, 8.0),\n",
       " (1929, 6.3),\n",
       " (1930, 6.1),\n",
       " (1932, 6.2),\n",
       " (1933, 5.6),\n",
       " (1934, 7.7),\n",
       " (1935, 7.4),\n",
       " (1936, 7.5),\n",
       " (1937, 7.7),\n",
       " (1938, 6.0),\n",
       " (1939, 7.7),\n",
       " (1940, 6.9),\n",
       " (1941, 6.8),\n",
       " (1942, 7.4),\n",
       " (1944, 6.5),\n",
       " (1945, 6.7),\n",
       " (1946, 7.3),\n",
       " (1947, 6.9),\n",
       " (1948, 7.0),\n",
       " (1949, 6.7),\n",
       " (1950, 7.3),\n",
       " (1951, 7.2),\n",
       " (1952, 7.2),\n",
       " (1953, 6.8),\n",
       " (1954, 7.3),\n",
       " (1955, 7.4),\n",
       " (1956, 6.3),\n",
       " (1957, 8.0),\n",
       " (1958, 7.6),\n",
       " (1959, 6.9),\n",
       " (1960, 7.9),\n",
       " (1961, 7.3),\n",
       " (1962, 7.0),\n",
       " (1963, 6.8),\n",
       " (1964, 7.2),\n",
       " (1965, 6.9),\n",
       " (1966, 6.7),\n",
       " (1967, 6.8),\n",
       " (1968, 6.9),\n",
       " (1969, 6.6),\n",
       " (1970, 6.7),\n",
       " (1971, 6.6),\n",
       " (1972, 7.0),\n",
       " (1973, 7.0),\n",
       " (1974, 7.2),\n",
       " (1975, 7.3),\n",
       " (1976, 7.1),\n",
       " (1977, 6.5),\n",
       " (1978, 6.6),\n",
       " (1979, 6.5),\n",
       " (1980, 6.6),\n",
       " (1981, 6.4),\n",
       " (1982, 6.4),\n",
       " (1983, 6.3),\n",
       " (1984, 6.5),\n",
       " (1985, 6.5),\n",
       " (1986, 6.2),\n",
       " (1987, 6.3),\n",
       " (1988, 6.3),\n",
       " (1989, 6.5),\n",
       " (1990, 6.5),\n",
       " (1991, 6.2),\n",
       " (1992, 6.6),\n",
       " (1993, 6.5),\n",
       " (1994, 6.3),\n",
       " (1995, 6.3),\n",
       " (1996, 6.1),\n",
       " (1997, 6.3),\n",
       " (1998, 6.3),\n",
       " (1999, 6.2),\n",
       " (2000, 6.0),\n",
       " (2001, 6.0),\n",
       " (2002, 6.1),\n",
       " (2003, 6.1),\n",
       " (2004, 6.1),\n",
       " (2005, 6.1),\n",
       " (2006, 6.2),\n",
       " (2007, 6.2),\n",
       " (2008, 6.1),\n",
       " (2009, 6.1),\n",
       " (2010, 6.1),\n",
       " (2011, 6.1),\n",
       " (2012, 6.0),\n",
       " (2013, 6.2),\n",
       " (2014, 6.0),\n",
       " (2015, 5.9),\n",
       " (2016, 5.9)]"
      ]
     },
     "execution_count": 255,
     "metadata": {},
     "output_type": "execute_result"
    }
   ],
   "source": [
    "%%sql\n",
    "\n",
    "SELECT \n",
    "  year_released,\n",
    "  ROUND(AVG(vote_average),1) AS average_rating\n",
    "FROM \n",
    "  movies\n",
    "GROUP BY \n",
    "  year_released\n",
    "ORDER BY \n",
    "  year_released;"
   ]
  },
  {
   "cell_type": "markdown",
   "id": "9dcdaa16-e4b7-45cd-b358-5666b878e337",
   "metadata": {},
   "source": [
    "The average rating of movies has been declining over the years. The average rating was highest in the early 20th century, with several years having an average rating above 7.5. The rating started to drop in the 1960s and significantly declined in the 1980s. From the 1990s to 2010s, the rating remained stable around 6.1-6.2. However, in the 2010s, the rating further declined, with 2015 and 2016 having the lowest ratings of 5.9.\n",
    "\r\n",
    "\r\n"
   ]
  },
  {
   "cell_type": "markdown",
   "id": "533e651e-91d7-4552-a6f9-5e716b9c451f",
   "metadata": {},
   "source": [
    "### What is the distribution of movie budgets across different genres, and how does this impact their average box office performance?"
   ]
  },
  {
   "cell_type": "code",
   "execution_count": 5,
   "id": "01134862-f666-46b2-a5af-5cbf59deb8d8",
   "metadata": {},
   "outputs": [
    {
     "name": "stdout",
     "output_type": "stream",
     "text": [
      " * sqlite:///TMDB.db\n",
      "Done.\n"
     ]
    },
    {
     "data": {
      "text/html": [
       "<table>\n",
       "    <tr>\n",
       "        <th>genre_name</th>\n",
       "        <th>num_movies</th>\n",
       "        <th>avg_budget</th>\n",
       "        <th>avg_revenue</th>\n",
       "        <th>avg_profit_margin</th>\n",
       "        <th>min_budget</th>\n",
       "        <th>max_budget</th>\n",
       "    </tr>\n",
       "    <tr>\n",
       "        <td>Animation</td>\n",
       "        <td>234</td>\n",
       "        <td>74774140.0</td>\n",
       "        <td>276503497.0</td>\n",
       "        <td>201729357.0</td>\n",
       "        <td>30</td>\n",
       "        <td>260000000</td>\n",
       "    </tr>\n",
       "    <tr>\n",
       "        <td>Adventure</td>\n",
       "        <td>790</td>\n",
       "        <td>72876524.0</td>\n",
       "        <td>244209721.0</td>\n",
       "        <td>171333197.0</td>\n",
       "        <td>1</td>\n",
       "        <td>380000000</td>\n",
       "    </tr>\n",
       "    <tr>\n",
       "        <td>Fantasy</td>\n",
       "        <td>424</td>\n",
       "        <td>71107379.0</td>\n",
       "        <td>233567521.0</td>\n",
       "        <td>162460142.0</td>\n",
       "        <td>1</td>\n",
       "        <td>380000000</td>\n",
       "    </tr>\n",
       "    <tr>\n",
       "        <td>Family</td>\n",
       "        <td>512</td>\n",
       "        <td>63461243.0</td>\n",
       "        <td>218018949.0</td>\n",
       "        <td>154557706.0</td>\n",
       "        <td>30</td>\n",
       "        <td>260000000</td>\n",
       "    </tr>\n",
       "    <tr>\n",
       "        <td>Science Fiction</td>\n",
       "        <td>535</td>\n",
       "        <td>58416989.0</td>\n",
       "        <td>185795526.0</td>\n",
       "        <td>127378536.0</td>\n",
       "        <td>1</td>\n",
       "        <td>280000000</td>\n",
       "    </tr>\n",
       "    <tr>\n",
       "        <td>Action</td>\n",
       "        <td>1154</td>\n",
       "        <td>58564933.0</td>\n",
       "        <td>173361611.0</td>\n",
       "        <td>114796679.0</td>\n",
       "        <td>7</td>\n",
       "        <td>380000000</td>\n",
       "    </tr>\n",
       "    <tr>\n",
       "        <td>Thriller</td>\n",
       "        <td>1274</td>\n",
       "        <td>37956659.0</td>\n",
       "        <td>107664678.0</td>\n",
       "        <td>69708019.0</td>\n",
       "        <td>7</td>\n",
       "        <td>250000000</td>\n",
       "    </tr>\n",
       "    <tr>\n",
       "        <td>Comedy</td>\n",
       "        <td>1721</td>\n",
       "        <td>33249208.0</td>\n",
       "        <td>104566029.0</td>\n",
       "        <td>71316821.0</td>\n",
       "        <td>1</td>\n",
       "        <td>225000000</td>\n",
       "    </tr>\n",
       "    <tr>\n",
       "        <td>Mystery</td>\n",
       "        <td>348</td>\n",
       "        <td>36023843.0</td>\n",
       "        <td>101674339.0</td>\n",
       "        <td>65650495.0</td>\n",
       "        <td>15000</td>\n",
       "        <td>190000000</td>\n",
       "    </tr>\n",
       "    <tr>\n",
       "        <td>War</td>\n",
       "        <td>144</td>\n",
       "        <td>38489954.0</td>\n",
       "        <td>99331524.0</td>\n",
       "        <td>60841570.0</td>\n",
       "        <td>4</td>\n",
       "        <td>175000000</td>\n",
       "    </tr>\n",
       "    <tr>\n",
       "        <td>Romance</td>\n",
       "        <td>894</td>\n",
       "        <td>26703467.0</td>\n",
       "        <td>88811486.0</td>\n",
       "        <td>62108019.0</td>\n",
       "        <td>1</td>\n",
       "        <td>200000000</td>\n",
       "    </tr>\n",
       "    <tr>\n",
       "        <td>Crime</td>\n",
       "        <td>696</td>\n",
       "        <td>32577255.0</td>\n",
       "        <td>85737171.0</td>\n",
       "        <td>53159916.0</td>\n",
       "        <td>7</td>\n",
       "        <td>250000000</td>\n",
       "    </tr>\n",
       "    <tr>\n",
       "        <td>Drama</td>\n",
       "        <td>2296</td>\n",
       "        <td>27408028.0</td>\n",
       "        <td>78396191.0</td>\n",
       "        <td>50988163.0</td>\n",
       "        <td>1</td>\n",
       "        <td>250000000</td>\n",
       "    </tr>\n",
       "    <tr>\n",
       "        <td>History</td>\n",
       "        <td>197</td>\n",
       "        <td>35487849.0</td>\n",
       "        <td>75547612.0</td>\n",
       "        <td>40059763.0</td>\n",
       "        <td>134005</td>\n",
       "        <td>155000000</td>\n",
       "    </tr>\n",
       "    <tr>\n",
       "        <td>Music</td>\n",
       "        <td>185</td>\n",
       "        <td>21481535.0</td>\n",
       "        <td>74085546.0</td>\n",
       "        <td>52604011.0</td>\n",
       "        <td>100</td>\n",
       "        <td>105000000</td>\n",
       "    </tr>\n",
       "    <tr>\n",
       "        <td>Horror</td>\n",
       "        <td>519</td>\n",
       "        <td>18584575.0</td>\n",
       "        <td>65697368.0</td>\n",
       "        <td>47112793.0</td>\n",
       "        <td>1</td>\n",
       "        <td>200000000</td>\n",
       "    </tr>\n",
       "    <tr>\n",
       "        <td>Western</td>\n",
       "        <td>82</td>\n",
       "        <td>33643236.0</td>\n",
       "        <td>62166707.0</td>\n",
       "        <td>28523470.0</td>\n",
       "        <td>200000</td>\n",
       "        <td>255000000</td>\n",
       "    </tr>\n",
       "    <tr>\n",
       "        <td>Documentary</td>\n",
       "        <td>110</td>\n",
       "        <td>5211817.0</td>\n",
       "        <td>23027185.0</td>\n",
       "        <td>17815368.0</td>\n",
       "        <td>2</td>\n",
       "        <td>60000000</td>\n",
       "    </tr>\n",
       "    <tr>\n",
       "        <td>Foreign</td>\n",
       "        <td>34</td>\n",
       "        <td>2796876.0</td>\n",
       "        <td>2066359.0</td>\n",
       "        <td>-730517.0</td>\n",
       "        <td>7</td>\n",
       "        <td>7000000</td>\n",
       "    </tr>\n",
       "    <tr>\n",
       "        <td>TV Movie</td>\n",
       "        <td>8</td>\n",
       "        <td>3066667.0</td>\n",
       "        <td>None</td>\n",
       "        <td>None</td>\n",
       "        <td>1000000</td>\n",
       "        <td>4200000</td>\n",
       "    </tr>\n",
       "</table>"
      ],
      "text/plain": [
       "[('Animation', 234, 74774140.0, 276503497.0, 201729357.0, 30, 260000000),\n",
       " ('Adventure', 790, 72876524.0, 244209721.0, 171333197.0, 1, 380000000),\n",
       " ('Fantasy', 424, 71107379.0, 233567521.0, 162460142.0, 1, 380000000),\n",
       " ('Family', 512, 63461243.0, 218018949.0, 154557706.0, 30, 260000000),\n",
       " ('Science Fiction', 535, 58416989.0, 185795526.0, 127378536.0, 1, 280000000),\n",
       " ('Action', 1154, 58564933.0, 173361611.0, 114796679.0, 7, 380000000),\n",
       " ('Thriller', 1274, 37956659.0, 107664678.0, 69708019.0, 7, 250000000),\n",
       " ('Comedy', 1721, 33249208.0, 104566029.0, 71316821.0, 1, 225000000),\n",
       " ('Mystery', 348, 36023843.0, 101674339.0, 65650495.0, 15000, 190000000),\n",
       " ('War', 144, 38489954.0, 99331524.0, 60841570.0, 4, 175000000),\n",
       " ('Romance', 894, 26703467.0, 88811486.0, 62108019.0, 1, 200000000),\n",
       " ('Crime', 696, 32577255.0, 85737171.0, 53159916.0, 7, 250000000),\n",
       " ('Drama', 2296, 27408028.0, 78396191.0, 50988163.0, 1, 250000000),\n",
       " ('History', 197, 35487849.0, 75547612.0, 40059763.0, 134005, 155000000),\n",
       " ('Music', 185, 21481535.0, 74085546.0, 52604011.0, 100, 105000000),\n",
       " ('Horror', 519, 18584575.0, 65697368.0, 47112793.0, 1, 200000000),\n",
       " ('Western', 82, 33643236.0, 62166707.0, 28523470.0, 200000, 255000000),\n",
       " ('Documentary', 110, 5211817.0, 23027185.0, 17815368.0, 2, 60000000),\n",
       " ('Foreign', 34, 2796876.0, 2066359.0, -730517.0, 7, 7000000),\n",
       " ('TV Movie', 8, 3066667.0, None, None, 1000000, 4200000)]"
      ]
     },
     "execution_count": 5,
     "metadata": {},
     "output_type": "execute_result"
    }
   ],
   "source": [
    "%%sql\n",
    "\n",
    "-- Step 1: Calculate the distribution of movie budgets across different genres\n",
    "WITH GenreBudget AS (\n",
    "    SELECT \n",
    "        genres.genre_name, \n",
    "        movies.budget,\n",
    "        movies.revenue\n",
    "    FROM \n",
    "        movies\n",
    "    JOIN \n",
    "        genremap ON movies.movie_id = genremap.movie_id\n",
    "    JOIN \n",
    "        genres ON genremap.genre_id = genres.genre_id\n",
    ")\n",
    "-- Step 2: Aggregate the data to analyze the average budget and box office performance per genre\n",
    "SELECT \n",
    "    genre_name,\n",
    "    COUNT(*) AS num_movies,\n",
    "    ROUND(AVG(budget)) AS avg_budget,\n",
    "    ROUND(AVG(revenue)) AS avg_revenue,\n",
    "    ROUND(AVG(revenue) - AVG(budget)) AS avg_profit_margin,\n",
    "    MIN(budget) AS min_budget,\n",
    "    MAX(budget) AS max_budget\n",
    "FROM \n",
    "    GenreBudget\n",
    "GROUP BY \n",
    "    genre_name\n",
    "ORDER BY \n",
    "    avg_revenue DESC;\n"
   ]
  },
  {
   "cell_type": "markdown",
   "id": "932598eb-e6d0-4bfc-bd22-472d1a31fc5a",
   "metadata": {},
   "source": [
    "#### Key Findings:\n",
    "- Highest-grossing genres: The top 3 genres by average revenue are Animation, Adventure, and Fantasy, with average revenues exceeding 200 million.\n",
    "- Lowest-grossing genres: The bottom 3 genres by average revenue are Foreign, TV Movie, and Documentary, with average revenues below 25 million.\n",
    "- Highest-budget genres: The top 3 genres by average budget are Animation, Adventure, and Fantasy, with average budgets exceeding 70 million.\n",
    "- Lowest-budget genres: The bottom 3 genres by average budget are Foreign, TV Movie, and Documentary, with average budgets below 5 million.\n",
    "- Most profitable genres: The top 3 genres by average profit margin are Animation, Adventure, and Fantasy, with average profit margins exceeding 150 million.\n",
    "- Least profitable genres: The bottom 3 genres by average profit margin are Foreign, TV Movie, and Documentary, with average profit margins below 10 million or even negative.\n",
    "\n",
    "#### Genre-specific insights\n",
    "\n",
    "- Animation: Has the highest average budget and revenue, with a strong profit margin. This suggests that animation movies are often high-investment, high-reward projects.\n",
    "- Action: Has a relatively high average budget, but a lower average revenue compared to other high-budget genres. This might indicate that action movies are more hit-or-miss in terms of box office performance.\n",
    "- Comedy: Has a relatively low average budget, but a moderate average revenue. This suggests that comedies can be profitable with lower investments.\n",
    "- Horror: Has a relatively low average budget and revenue, but a decent profit margin. This might indicate that horror movies can be profitable with lower investments and a focus on niche audiences.\n",
    "- Documentary: Has a very low average budget and revenue, with a negative profit margin. This suggests that documentaries are often low-budget, low-revenue projects that may not be as commercially viable.\n",
    "\n",
    "#### Correlations and trends\n",
    "\n",
    "- Budget vs. Revenue: There is a strong positive correlation between average budget and average revenue across genres. This suggests that higher budgets often lead to higher revenues.\n",
    "- Budget vs. Profit Margin: There is a moderate positive correlation between average budget and average profit margin across genres. This suggests that higher budgets can lead to higher profit margins, but not always.\n",
    "- Genre diversity: The data shows a diverse range of genres, with varying levels of budget, revenue, and profit margin. This suggests that different genres have different commercial viability and profitability profiles."
   ]
  },
  {
   "cell_type": "markdown",
   "id": "44080ad5-b4f4-4bd6-bc1f-d452e8945ab1",
   "metadata": {},
   "source": [
    "### Do movies with a higher number of reviews tend to have higher ratings? What is the relationship between the number of reviews and the average rating?"
   ]
  },
  {
   "cell_type": "code",
   "execution_count": 265,
   "id": "cc9c73ed-91cc-445e-90dc-62966062d83f",
   "metadata": {},
   "outputs": [
    {
     "name": "stdout",
     "output_type": "stream",
     "text": [
      " * sqlite:///TMDB.db\n",
      "Done.\n"
     ]
    },
    {
     "data": {
      "text/html": [
       "<table>\n",
       "    <tr>\n",
       "        <th>title</th>\n",
       "        <th>number_of_reviews</th>\n",
       "        <th>ratings</th>\n",
       "    </tr>\n",
       "    <tr>\n",
       "        <td>Inception</td>\n",
       "        <td>13752</td>\n",
       "        <td>8.1</td>\n",
       "    </tr>\n",
       "    <tr>\n",
       "        <td>The Dark Knight</td>\n",
       "        <td>12002</td>\n",
       "        <td>8.2</td>\n",
       "    </tr>\n",
       "    <tr>\n",
       "        <td>Avatar</td>\n",
       "        <td>11800</td>\n",
       "        <td>7.2</td>\n",
       "    </tr>\n",
       "    <tr>\n",
       "        <td>The Avengers</td>\n",
       "        <td>11776</td>\n",
       "        <td>7.4</td>\n",
       "    </tr>\n",
       "    <tr>\n",
       "        <td>Deadpool</td>\n",
       "        <td>10995</td>\n",
       "        <td>7.4</td>\n",
       "    </tr>\n",
       "    <tr>\n",
       "        <td>Interstellar</td>\n",
       "        <td>10867</td>\n",
       "        <td>8.1</td>\n",
       "    </tr>\n",
       "    <tr>\n",
       "        <td>Django Unchained</td>\n",
       "        <td>10099</td>\n",
       "        <td>7.8</td>\n",
       "    </tr>\n",
       "    <tr>\n",
       "        <td>Guardians of the Galaxy</td>\n",
       "        <td>9742</td>\n",
       "        <td>7.9</td>\n",
       "    </tr>\n",
       "    <tr>\n",
       "        <td>The Hunger Games</td>\n",
       "        <td>9455</td>\n",
       "        <td>6.9</td>\n",
       "    </tr>\n",
       "    <tr>\n",
       "        <td>Mad Max: Fury Road</td>\n",
       "        <td>9427</td>\n",
       "        <td>7.2</td>\n",
       "    </tr>\n",
       "</table>"
      ],
      "text/plain": [
       "[('Inception', 13752, 8.1),\n",
       " ('The Dark Knight', 12002, 8.2),\n",
       " ('Avatar', 11800, 7.2),\n",
       " ('The Avengers', 11776, 7.4),\n",
       " ('Deadpool', 10995, 7.4),\n",
       " ('Interstellar', 10867, 8.1),\n",
       " ('Django Unchained', 10099, 7.8),\n",
       " ('Guardians of the Galaxy', 9742, 7.9),\n",
       " ('The Hunger Games', 9455, 6.9),\n",
       " ('Mad Max: Fury Road', 9427, 7.2)]"
      ]
     },
     "execution_count": 265,
     "metadata": {},
     "output_type": "execute_result"
    }
   ],
   "source": [
    "%%sql\n",
    "\n",
    "SELECT title, vote_count AS number_of_reviews, vote_average AS ratings\n",
    "FROM movies\n",
    "ORDER BY number_of_reviews DESC\n",
    "LIMIT 10;"
   ]
  },
  {
   "cell_type": "code",
   "execution_count": 270,
   "id": "d81effcd-a813-43fa-9299-84d5faeb3ea3",
   "metadata": {},
   "outputs": [
    {
     "name": "stdout",
     "output_type": "stream",
     "text": [
      " * sqlite:///TMDB.db\n",
      "Done.\n"
     ]
    },
    {
     "data": {
      "text/html": [
       "<table>\n",
       "    <tr>\n",
       "        <th>sum_product</th>\n",
       "        <th>sum_reviews_dev_squared</th>\n",
       "        <th>sum_rating_dev_squared</th>\n",
       "    </tr>\n",
       "    <tr>\n",
       "        <td>1949145.9901033984</td>\n",
       "        <td>7288817125.95358</td>\n",
       "        <td>4482.125667862438</td>\n",
       "    </tr>\n",
       "</table>"
      ],
      "text/plain": [
       "[(1949145.9901033984, 7288817125.95358, 4482.125667862438)]"
      ]
     },
     "execution_count": 270,
     "metadata": {},
     "output_type": "execute_result"
    }
   ],
   "source": [
    "%%sql\n",
    "\n",
    "WITH \n",
    "  -- Calculate means\n",
    "  means AS (\n",
    "    SELECT \n",
    "      AVG(vote_count) AS avg_reviews,\n",
    "      AVG(vote_average) AS avg_rating\n",
    "    FROM \n",
    "      movies\n",
    "  ),\n",
    "  \n",
    "  -- Calculate deviations and products\n",
    "  deviations AS (\n",
    "    SELECT \n",
    "      vote_count - m.avg_reviews AS reviews_dev,\n",
    "      vote_average - m.avg_rating AS rating_dev,\n",
    "      (vote_count - m.avg_reviews) * (vote_average - m.avg_rating) AS product,\n",
    "      (vote_count - m.avg_reviews) * (vote_count - m.avg_reviews) AS reviews_dev_squared,\n",
    "      (vote_average - m.avg_rating) * (vote_average - m.avg_rating) AS rating_dev_squared\n",
    "    FROM \n",
    "      movies\n",
    "    CROSS JOIN means m\n",
    "  )\n",
    "\n",
    "SELECT \n",
    "  SUM(product) AS sum_product,\n",
    "  SUM(reviews_dev_squared) AS sum_reviews_dev_squared,\n",
    "  SUM(rating_dev_squared) AS sum_rating_dev_squared\n",
    "FROM \n",
    "  deviations;"
   ]
  },
  {
   "cell_type": "code",
   "execution_count": 271,
   "id": "73cfac68-81e8-42ea-b358-c92250fa9804",
   "metadata": {},
   "outputs": [
    {
     "name": "stdout",
     "output_type": "stream",
     "text": [
      "Correlation Coefficient: 0.3410152707876165\n"
     ]
    }
   ],
   "source": [
    "import sqlite3\n",
    "import math\n",
    "\n",
    "# Connect to the database\n",
    "conn = sqlite3.connect('TMDB.db')\n",
    "cursor = conn.cursor()\n",
    "\n",
    "# Execute the SQL query\n",
    "query = \"\"\"\n",
    "WITH \n",
    "  means AS (\n",
    "    SELECT \n",
    "      AVG(vote_count) AS avg_reviews,\n",
    "      AVG(vote_average) AS avg_rating\n",
    "    FROM \n",
    "      movies\n",
    "  ),\n",
    "  deviations AS (\n",
    "    SELECT \n",
    "      vote_count - m.avg_reviews AS reviews_dev,\n",
    "      vote_average - m.avg_rating AS rating_dev,\n",
    "      (vote_count - m.avg_reviews) * (vote_average - m.avg_rating) AS product,\n",
    "      (vote_count - m.avg_reviews) * (vote_count - m.avg_reviews) AS reviews_dev_squared,\n",
    "      (vote_average - m.avg_rating) * (vote_average - m.avg_rating) AS rating_dev_squared\n",
    "    FROM \n",
    "      movies\n",
    "    CROSS JOIN means m\n",
    "  )\n",
    "SELECT \n",
    "  SUM(product) AS sum_product,\n",
    "  SUM(reviews_dev_squared) AS sum_reviews_dev_squared,\n",
    "  SUM(rating_dev_squared) AS sum_rating_dev_squared\n",
    "FROM \n",
    "  deviations;\n",
    "\"\"\"\n",
    "\n",
    "cursor.execute(query)\n",
    "result = cursor.fetchone()\n",
    "\n",
    "# Retrieve the sums from the result\n",
    "sum_product = result[0]\n",
    "sum_reviews_dev_squared = result[1]\n",
    "sum_rating_dev_squared = result[2]\n",
    "\n",
    "# Calculate the correlation coefficient\n",
    "correlation_coefficient = sum_product / math.sqrt(sum_reviews_dev_squared * sum_rating_dev_squared)\n",
    "\n",
    "print(\"Correlation Coefficient:\", correlation_coefficient)\n",
    "\n",
    "# Close the connection\n",
    "conn.close()"
   ]
  },
  {
   "cell_type": "markdown",
   "id": "dbb4f1bc-2779-41fb-a274-f793b48013b8",
   "metadata": {},
   "source": [
    "#### Insights:\n",
    "\n",
    "The correlation coefficient of 0.34 suggests a moderate positive relationship between the number of reviews and average ratings, implying that movies with more reviews tend to have slightly higher ratings, though the relationship is not particularly strong.\n",
    "This indicaties that there are many other factors influencing the rating beyond just the number of reviews. This is expected, as movie ratings are influenced by a complex array of factors, such as the movie's genre, director, cast, plot, and overall quality."
   ]
  },
  {
   "cell_type": "markdown",
   "id": "af866892-1d01-486d-bbe3-80999997d2b7",
   "metadata": {},
   "source": [
    "### What is the average rating of movies in the dataset?"
   ]
  },
  {
   "cell_type": "code",
   "execution_count": 278,
   "id": "e25cb892-d273-401a-9bac-c39237c73a30",
   "metadata": {},
   "outputs": [
    {
     "name": "stdout",
     "output_type": "stream",
     "text": [
      " * sqlite:///TMDB.db\n",
      "Done.\n"
     ]
    },
    {
     "data": {
      "text/html": [
       "<table>\n",
       "    <tr>\n",
       "        <th>average_rating_of_movies</th>\n",
       "    </tr>\n",
       "    <tr>\n",
       "        <td>6.2</td>\n",
       "    </tr>\n",
       "</table>"
      ],
      "text/plain": [
       "[(6.2,)]"
      ]
     },
     "execution_count": 278,
     "metadata": {},
     "output_type": "execute_result"
    }
   ],
   "source": [
    "%%sql\n",
    "\n",
    "SELECT ROUND(AVG(vote_average),1) as average_rating_of_movies\n",
    "FROM movies;"
   ]
  },
  {
   "cell_type": "markdown",
   "id": "318ae31a-f0b6-4a3b-8684-81ff12286122",
   "metadata": {},
   "source": [
    "### Which genre of movies has the highest average rating?"
   ]
  },
  {
   "cell_type": "code",
   "execution_count": 283,
   "id": "f0fa2035-ffa8-44c2-b07b-b815fbd537e0",
   "metadata": {},
   "outputs": [
    {
     "name": "stdout",
     "output_type": "stream",
     "text": [
      " * sqlite:///TMDB.db\n",
      "Done.\n"
     ]
    },
    {
     "data": {
      "text/html": [
       "<table>\n",
       "    <tr>\n",
       "        <th>genre_name</th>\n",
       "        <th>average_ratings</th>\n",
       "    </tr>\n",
       "    <tr>\n",
       "        <td>History</td>\n",
       "        <td>6.71979695431472</td>\n",
       "    </tr>\n",
       "    <tr>\n",
       "        <td>War</td>\n",
       "        <td>6.713888888888885</td>\n",
       "    </tr>\n",
       "    <tr>\n",
       "        <td>Documentary</td>\n",
       "        <td>6.662135922330096</td>\n",
       "    </tr>\n",
       "    <tr>\n",
       "        <td>Drama</td>\n",
       "        <td>6.449956024626197</td>\n",
       "    </tr>\n",
       "    <tr>\n",
       "        <td>Music</td>\n",
       "        <td>6.425136612021856</td>\n",
       "    </tr>\n",
       "    <tr>\n",
       "        <td>Western</td>\n",
       "        <td>6.412658227848103</td>\n",
       "    </tr>\n",
       "    <tr>\n",
       "        <td>Foreign</td>\n",
       "        <td>6.35294117647059</td>\n",
       "    </tr>\n",
       "    <tr>\n",
       "        <td>Animation</td>\n",
       "        <td>6.341452991452991</td>\n",
       "    </tr>\n",
       "    <tr>\n",
       "        <td>Crime</td>\n",
       "        <td>6.319536903039073</td>\n",
       "    </tr>\n",
       "    <tr>\n",
       "        <td>Mystery</td>\n",
       "        <td>6.237681159420291</td>\n",
       "    </tr>\n",
       "</table>"
      ],
      "text/plain": [
       "[('History', 6.71979695431472),\n",
       " ('War', 6.713888888888885),\n",
       " ('Documentary', 6.662135922330096),\n",
       " ('Drama', 6.449956024626197),\n",
       " ('Music', 6.425136612021856),\n",
       " ('Western', 6.412658227848103),\n",
       " ('Foreign', 6.35294117647059),\n",
       " ('Animation', 6.341452991452991),\n",
       " ('Crime', 6.319536903039073),\n",
       " ('Mystery', 6.237681159420291)]"
      ]
     },
     "execution_count": 283,
     "metadata": {},
     "output_type": "execute_result"
    }
   ],
   "source": [
    "%%sql\n",
    "\n",
    "SELECT \n",
    "  genres.genre_name,\n",
    "  AVG(movies.vote_average) as average_ratings\n",
    "FROM movies\n",
    "JOIN genremap ON movies.movie_id = genremap.movie_id\n",
    "JOIN genres ON genremap.genre_id = genres.genre_id\n",
    "GROUP BY genres.genre_name\n",
    "ORDER BY average_ratings DESC\n",
    "LIMIT 10;"
   ]
  },
  {
   "cell_type": "markdown",
   "id": "5351c02a-460e-4e73-8466-f176353a9dbb",
   "metadata": {},
   "source": [
    "#### Insights:\n",
    "\n",
    "- Historical dramas and war movies tend to be well-received, possibly due to their often-serious and thought-provoking nature.\n",
    "- Documentaries, which often focus on real-life events or issues, may appeal to audiences seeking informative and engaging content.\n",
    "- Drama and Music, may be more hit-or-miss, with some movies resonating with audiences and others not as much.\n",
    "- Animation, Crime, and Mystery movies may struggle to connect with audiences, potentially due to oversaturation or a lack of originality in these genres."
   ]
  },
  {
   "cell_type": "markdown",
   "id": "d22164be-5d48-4473-9cad-cbd4bf8304d4",
   "metadata": {},
   "source": [
    "### What is the relationship between popularity and revenue?"
   ]
  },
  {
   "cell_type": "code",
   "execution_count": 12,
   "id": "5ea404c2-29b2-49e5-a98a-f88095d914d4",
   "metadata": {},
   "outputs": [
    {
     "name": "stdout",
     "output_type": "stream",
     "text": [
      " * sqlite:///TMDB.db\n",
      "Done.\n"
     ]
    },
    {
     "data": {
      "text/html": [
       "<table>\n",
       "    <tr>\n",
       "        <th>title</th>\n",
       "        <th>revenue</th>\n",
       "        <th>popularity</th>\n",
       "    </tr>\n",
       "    <tr>\n",
       "        <td>Avatar</td>\n",
       "        <td>2787965087.0</td>\n",
       "        <td>150.437577</td>\n",
       "    </tr>\n",
       "    <tr>\n",
       "        <td>Titanic</td>\n",
       "        <td>1845034188.0</td>\n",
       "        <td>100.025899</td>\n",
       "    </tr>\n",
       "    <tr>\n",
       "        <td>The Avengers</td>\n",
       "        <td>1519557910.0</td>\n",
       "        <td>144.448633</td>\n",
       "    </tr>\n",
       "    <tr>\n",
       "        <td>Jurassic World</td>\n",
       "        <td>1513528810.0</td>\n",
       "        <td>418.708552</td>\n",
       "    </tr>\n",
       "    <tr>\n",
       "        <td>Furious 7</td>\n",
       "        <td>1506249360.0</td>\n",
       "        <td>102.322217</td>\n",
       "    </tr>\n",
       "    <tr>\n",
       "        <td>Avengers: Age of Ultron</td>\n",
       "        <td>1405403694.0</td>\n",
       "        <td>134.279229</td>\n",
       "    </tr>\n",
       "    <tr>\n",
       "        <td>Frozen</td>\n",
       "        <td>1274219009.0</td>\n",
       "        <td>165.125366</td>\n",
       "    </tr>\n",
       "    <tr>\n",
       "        <td>Iron Man 3</td>\n",
       "        <td>1215439994.0</td>\n",
       "        <td>77.68208</td>\n",
       "    </tr>\n",
       "    <tr>\n",
       "        <td>Minions</td>\n",
       "        <td>1156730962.0</td>\n",
       "        <td>875.581305</td>\n",
       "    </tr>\n",
       "    <tr>\n",
       "        <td>Captain America: Civil War</td>\n",
       "        <td>1153304495.0</td>\n",
       "        <td>198.372395</td>\n",
       "    </tr>\n",
       "</table>"
      ],
      "text/plain": [
       "[('Avatar', 2787965087.0, 150.437577),\n",
       " ('Titanic', 1845034188.0, 100.025899),\n",
       " ('The Avengers', 1519557910.0, 144.448633),\n",
       " ('Jurassic World', 1513528810.0, 418.708552),\n",
       " ('Furious 7', 1506249360.0, 102.322217),\n",
       " ('Avengers: Age of Ultron', 1405403694.0, 134.279229),\n",
       " ('Frozen', 1274219009.0, 165.125366),\n",
       " ('Iron Man 3', 1215439994.0, 77.68208),\n",
       " ('Minions', 1156730962.0, 875.581305),\n",
       " ('Captain America: Civil War', 1153304495.0, 198.372395)]"
      ]
     },
     "execution_count": 12,
     "metadata": {},
     "output_type": "execute_result"
    }
   ],
   "source": [
    "%%sql\n",
    "\n",
    "SELECT title, revenue, popularity\n",
    "FROM movies\n",
    "ORDER BY revenue DESC\n",
    "LIMIT 10;"
   ]
  },
  {
   "cell_type": "code",
   "execution_count": 16,
   "id": "823fd87b-a68e-4aba-bf34-f700a4362af3",
   "metadata": {},
   "outputs": [
    {
     "name": "stdout",
     "output_type": "stream",
     "text": [
      " * sqlite:///TMDB.db\n",
      "Done.\n"
     ]
    },
    {
     "data": {
      "text/html": [
       "<table>\n",
       "    <tr>\n",
       "        <th>correlation_coefficient</th>\n",
       "    </tr>\n",
       "    <tr>\n",
       "        <td>2.4207179099259195e-14</td>\n",
       "    </tr>\n",
       "</table>"
      ],
      "text/plain": [
       "[(2.4207179099259195e-14,)]"
      ]
     },
     "execution_count": 16,
     "metadata": {},
     "output_type": "execute_result"
    }
   ],
   "source": [
    "%%sql\n",
    "\n",
    "WITH \n",
    "  -- Calculate the mean of popularity and revenue\n",
    "  means AS (\n",
    "    SELECT \n",
    "      AVG(popularity) AS mean_popularity,\n",
    "      AVG(revenue) AS mean_revenue\n",
    "    FROM \n",
    "      movies\n",
    "  ),\n",
    "  \n",
    "  -- Calculate the deviations from the mean\n",
    "  deviations AS (\n",
    "    SELECT \n",
    "      popularity - mean_popularity AS popularity_dev,\n",
    "      revenue - mean_revenue AS revenue_dev\n",
    "    FROM \n",
    "      movies\n",
    "    CROSS JOIN means\n",
    "  ),\n",
    "  \n",
    "  -- Calculate the covariance\n",
    "  covariance AS (\n",
    "    SELECT \n",
    "      SUM(popularity_dev * revenue_dev) AS covariance\n",
    "    FROM \n",
    "      deviations\n",
    "  ),\n",
    "    sum_squares AS (\n",
    "    SELECT \n",
    "      SUM(popularity_dev * popularity_dev) AS sum_popularity_squares,\n",
    "      SUM(revenue_dev * revenue_dev) AS sum_revenue_squares\n",
    "    FROM \n",
    "      deviations\n",
    "  )\n",
    "\n",
    "-- Calculate the correlation coefficient\n",
    "SELECT \n",
    "  covariance / (sum_popularity_squares * sum_revenue_squares) AS correlation_coefficient\n",
    "FROM \n",
    "  covariance\n",
    "  CROSS JOIN sum_squares;"
   ]
  },
  {
   "cell_type": "markdown",
   "id": "d90310dc-dda2-42eb-859f-f5f7dbfce9d9",
   "metadata": {},
   "source": [
    "The correlation coefficient of 2.4207179099259195e-14 is extremely close to zero, which indicates that there is almost no linear relationship between the popularity and revenue variables."
   ]
  },
  {
   "cell_type": "markdown",
   "id": "0684cc64-f734-40ea-befc-5928719119cd",
   "metadata": {},
   "source": [
    "### What is the average revenue of movies in the dataset?"
   ]
  },
  {
   "cell_type": "code",
   "execution_count": 285,
   "id": "4cdbc446-b510-46ec-8c7e-ad5384c1ce48",
   "metadata": {},
   "outputs": [
    {
     "name": "stdout",
     "output_type": "stream",
     "text": [
      " * sqlite:///TMDB.db\n",
      "Done.\n"
     ]
    },
    {
     "data": {
      "text/html": [
       "<table>\n",
       "    <tr>\n",
       "        <th>average_revenue</th>\n",
       "    </tr>\n",
       "    <tr>\n",
       "        <td>117031352.9</td>\n",
       "    </tr>\n",
       "</table>"
      ],
      "text/plain": [
       "[(117031352.9,)]"
      ]
     },
     "execution_count": 285,
     "metadata": {},
     "output_type": "execute_result"
    }
   ],
   "source": [
    "%%sql\n",
    "\n",
    "SELECT ROUND(AVG(revenue),1) as average_revenue\n",
    "FROM movies;"
   ]
  },
  {
   "cell_type": "markdown",
   "id": "34bb03c6-5903-4efb-9338-3736cd15d4ae",
   "metadata": {},
   "source": [
    "### Which production company has made the most movies in the dataset?"
   ]
  },
  {
   "cell_type": "code",
   "execution_count": 6,
   "id": "bab68f0e-dabe-4888-a414-c9cce1560b63",
   "metadata": {},
   "outputs": [
    {
     "name": "stdout",
     "output_type": "stream",
     "text": [
      " * sqlite:///TMDB.db\n",
      "Done.\n"
     ]
    },
    {
     "data": {
      "text/html": [
       "<table>\n",
       "    <tr>\n",
       "        <th>production_companies</th>\n",
       "        <th>number_of_movies</th>\n",
       "        <th>revenue</th>\n",
       "    </tr>\n",
       "    <tr>\n",
       "        <td>Warner Bros.</td>\n",
       "        <td>319</td>\n",
       "        <td>49155747874.0</td>\n",
       "    </tr>\n",
       "    <tr>\n",
       "        <td>Universal Pictures</td>\n",
       "        <td>311</td>\n",
       "        <td>42588465942.0</td>\n",
       "    </tr>\n",
       "    <tr>\n",
       "        <td>Paramount Pictures</td>\n",
       "        <td>285</td>\n",
       "        <td>40878523165.0</td>\n",
       "    </tr>\n",
       "    <tr>\n",
       "        <td>Twentieth Century Fox Film Corporation</td>\n",
       "        <td>222</td>\n",
       "        <td>39357151309.0</td>\n",
       "    </tr>\n",
       "    <tr>\n",
       "        <td>Walt Disney Pictures</td>\n",
       "        <td>114</td>\n",
       "        <td>28683256048.0</td>\n",
       "    </tr>\n",
       "    <tr>\n",
       "        <td>Columbia Pictures</td>\n",
       "        <td>201</td>\n",
       "        <td>28599634775.0</td>\n",
       "    </tr>\n",
       "    <tr>\n",
       "        <td>New Line Cinema</td>\n",
       "        <td>165</td>\n",
       "        <td>19444865804.0</td>\n",
       "    </tr>\n",
       "    <tr>\n",
       "        <td>Amblin Entertainment</td>\n",
       "        <td>49</td>\n",
       "        <td>16090835147.0</td>\n",
       "    </tr>\n",
       "    <tr>\n",
       "        <td>DreamWorks SKG</td>\n",
       "        <td>79</td>\n",
       "        <td>14384533626.0</td>\n",
       "    </tr>\n",
       "    <tr>\n",
       "        <td>Dune Entertainment</td>\n",
       "        <td>59</td>\n",
       "        <td>13797504190.0</td>\n",
       "    </tr>\n",
       "</table>"
      ],
      "text/plain": [
       "[('Warner Bros.', 319, 49155747874.0),\n",
       " ('Universal Pictures', 311, 42588465942.0),\n",
       " ('Paramount Pictures', 285, 40878523165.0),\n",
       " ('Twentieth Century Fox Film Corporation', 222, 39357151309.0),\n",
       " ('Walt Disney Pictures', 114, 28683256048.0),\n",
       " ('Columbia Pictures', 201, 28599634775.0),\n",
       " ('New Line Cinema', 165, 19444865804.0),\n",
       " ('Amblin Entertainment', 49, 16090835147.0),\n",
       " ('DreamWorks SKG', 79, 14384533626.0),\n",
       " ('Dune Entertainment', 59, 13797504190.0)]"
      ]
     },
     "execution_count": 6,
     "metadata": {},
     "output_type": "execute_result"
    }
   ],
   "source": [
    "%%sql\n",
    "\n",
    "SELECT productioncompanies.production_company_name AS production_companies, COUNT(movies.title) as number_of_movies, SUM(revenue) as revenue\n",
    "FROM movies\n",
    "JOIN productioncompanymap ON movies.movie_id = productioncompanymap.movie_id\n",
    "JOIN productioncompanies ON productioncompanymap.production_company_id = productioncompanies.production_company_id\n",
    "GROUP BY productioncompanies.production_company_name\n",
    "ORDER BY revenue DESC\n",
    "LIMIT 10;"
   ]
  },
  {
   "cell_type": "markdown",
   "id": "3ff967f0-c418-4fb3-be30-ac0781e57d43",
   "metadata": {},
   "source": [
    "#### Insights:\n",
    "\n",
    "The data indicates that Warner Bros. and Universal Pictures have produced the most movies in the dataset, while Relativity Media is the least active of the top 10 production companies. "
   ]
  },
  {
   "cell_type": "markdown",
   "id": "8159d605-7480-42a7-9cee-229b3179deb1",
   "metadata": {},
   "source": [
    "### Which actor has appeared in the most movies in the dataset?"
   ]
  },
  {
   "cell_type": "code",
   "execution_count": 294,
   "id": "f5a40038-5dce-462b-bcb1-115b4183069b",
   "metadata": {},
   "outputs": [
    {
     "name": "stdout",
     "output_type": "stream",
     "text": [
      " * sqlite:///TMDB.db\n",
      "Done.\n"
     ]
    },
    {
     "data": {
      "text/html": [
       "<table>\n",
       "    <tr>\n",
       "        <th>actor_name</th>\n",
       "        <th>number_of_movies</th>\n",
       "    </tr>\n",
       "    <tr>\n",
       "        <td>Samuel L. Jackson</td>\n",
       "        <td>67</td>\n",
       "    </tr>\n",
       "    <tr>\n",
       "        <td>Robert De Niro</td>\n",
       "        <td>57</td>\n",
       "    </tr>\n",
       "    <tr>\n",
       "        <td>Bruce Willis</td>\n",
       "        <td>51</td>\n",
       "    </tr>\n",
       "    <tr>\n",
       "        <td>Matt Damon</td>\n",
       "        <td>48</td>\n",
       "    </tr>\n",
       "    <tr>\n",
       "        <td>Morgan Freeman</td>\n",
       "        <td>46</td>\n",
       "    </tr>\n",
       "    <tr>\n",
       "        <td>Steve Buscemi</td>\n",
       "        <td>43</td>\n",
       "    </tr>\n",
       "    <tr>\n",
       "        <td>Liam Neeson</td>\n",
       "        <td>41</td>\n",
       "    </tr>\n",
       "    <tr>\n",
       "        <td>Owen Wilson</td>\n",
       "        <td>40</td>\n",
       "    </tr>\n",
       "    <tr>\n",
       "        <td>Johnny Depp</td>\n",
       "        <td>40</td>\n",
       "    </tr>\n",
       "    <tr>\n",
       "        <td>Nicolas Cage</td>\n",
       "        <td>39</td>\n",
       "    </tr>\n",
       "</table>"
      ],
      "text/plain": [
       "[('Samuel L. Jackson', 67),\n",
       " ('Robert De Niro', 57),\n",
       " ('Bruce Willis', 51),\n",
       " ('Matt Damon', 48),\n",
       " ('Morgan Freeman', 46),\n",
       " ('Steve Buscemi', 43),\n",
       " ('Liam Neeson', 41),\n",
       " ('Owen Wilson', 40),\n",
       " ('Johnny Depp', 40),\n",
       " ('Nicolas Cage', 39)]"
      ]
     },
     "execution_count": 294,
     "metadata": {},
     "output_type": "execute_result"
    }
   ],
   "source": [
    "%%sql\n",
    "SELECT \n",
    "    actors.actor_name, \n",
    "    COUNT(movies.title) as number_of_movies\n",
    "FROM movies\n",
    "JOIN casts ON movies.movie_id = casts.movie_id\n",
    "JOIN actors ON casts.actor_id = actors.actor_id\n",
    "GROUP BY actors.actor_name\n",
    "ORDER BY  number_of_movies DESC\n",
    "LIMIT 10;"
   ]
  },
  {
   "cell_type": "markdown",
   "id": "be11db8b-f835-4e7b-8ed1-ea2a610df6a5",
   "metadata": {},
   "source": [
    "### Findings:\n",
    "\n",
    "- Samuel L. Jackson is the clear leader, having appeared in 67 movies, a significant margin ahead of the next closest actor, Robert De Niro, who has appeared in 57 movies.\n",
    "- The top 3 actors (Jackson, De Niro, and Bruce Willis) have all appeared in over 50 movies, indicating a high level of prolificacy and longevity in their careers.\n",
    "- The middle tier of actors (Matt Damon to Owen Wilson) have all appeared in between 40-48 movies, suggesting a consistent level of activity in the film industry.\n",
    "- Johnny Depp and Nicolas Cage, both known for their versatility and range, round out the top 10 with 40 and 39 movie appearances, respectively."
   ]
  },
  {
   "cell_type": "markdown",
   "id": "91199c95-857a-4158-ac74-bd93fcaf027e",
   "metadata": {},
   "source": [
    "### What is the relationship between movie budget and rating? Do higher-budget movies tend to have higher ratings?"
   ]
  },
  {
   "cell_type": "code",
   "execution_count": 298,
   "id": "a41dc693-759d-4718-b667-e3a3ee09c289",
   "metadata": {},
   "outputs": [
    {
     "name": "stdout",
     "output_type": "stream",
     "text": [
      " * sqlite:///TMDB.db\n",
      "Done.\n"
     ]
    },
    {
     "data": {
      "text/html": [
       "<table>\n",
       "    <tr>\n",
       "        <th>title</th>\n",
       "        <th>budget</th>\n",
       "        <th>ratings</th>\n",
       "    </tr>\n",
       "    <tr>\n",
       "        <td>Pirates of the Caribbean: On Stranger Tides</td>\n",
       "        <td>380000000</td>\n",
       "        <td>6.4</td>\n",
       "    </tr>\n",
       "    <tr>\n",
       "        <td>Pirates of the Caribbean: At World&#x27;s End</td>\n",
       "        <td>300000000</td>\n",
       "        <td>6.9</td>\n",
       "    </tr>\n",
       "    <tr>\n",
       "        <td>Avengers: Age of Ultron</td>\n",
       "        <td>280000000</td>\n",
       "        <td>7.3</td>\n",
       "    </tr>\n",
       "    <tr>\n",
       "        <td>Superman Returns</td>\n",
       "        <td>270000000</td>\n",
       "        <td>5.4</td>\n",
       "    </tr>\n",
       "    <tr>\n",
       "        <td>Tangled</td>\n",
       "        <td>260000000</td>\n",
       "        <td>7.4</td>\n",
       "    </tr>\n",
       "    <tr>\n",
       "        <td>John Carter</td>\n",
       "        <td>260000000</td>\n",
       "        <td>6.1</td>\n",
       "    </tr>\n",
       "    <tr>\n",
       "        <td>Spider-Man 3</td>\n",
       "        <td>258000000</td>\n",
       "        <td>5.9</td>\n",
       "    </tr>\n",
       "    <tr>\n",
       "        <td>The Lone Ranger</td>\n",
       "        <td>255000000</td>\n",
       "        <td>5.9</td>\n",
       "    </tr>\n",
       "    <tr>\n",
       "        <td>Harry Potter and the Half-Blood Prince</td>\n",
       "        <td>250000000</td>\n",
       "        <td>7.4</td>\n",
       "    </tr>\n",
       "    <tr>\n",
       "        <td>The Dark Knight Rises</td>\n",
       "        <td>250000000</td>\n",
       "        <td>7.6</td>\n",
       "    </tr>\n",
       "</table>"
      ],
      "text/plain": [
       "[('Pirates of the Caribbean: On Stranger Tides', 380000000, 6.4),\n",
       " (\"Pirates of the Caribbean: At World's End\", 300000000, 6.9),\n",
       " ('Avengers: Age of Ultron', 280000000, 7.3),\n",
       " ('Superman Returns', 270000000, 5.4),\n",
       " ('Tangled', 260000000, 7.4),\n",
       " ('John Carter', 260000000, 6.1),\n",
       " ('Spider-Man 3', 258000000, 5.9),\n",
       " ('The Lone Ranger', 255000000, 5.9),\n",
       " ('Harry Potter and the Half-Blood Prince', 250000000, 7.4),\n",
       " ('The Dark Knight Rises', 250000000, 7.6)]"
      ]
     },
     "execution_count": 298,
     "metadata": {},
     "output_type": "execute_result"
    }
   ],
   "source": [
    "%%sql\n",
    "\n",
    "SELECT title, budget, vote_average AS ratings\n",
    "FROM movies\n",
    "ORDER BY budget DESC\n",
    "LIMIT 10;"
   ]
  },
  {
   "cell_type": "code",
   "execution_count": 303,
   "id": "cedb1b48-8f52-4a98-a592-692e940f6186",
   "metadata": {},
   "outputs": [
    {
     "name": "stdout",
     "output_type": "stream",
     "text": [
      " * sqlite:///TMDB.db\n",
      "Done.\n"
     ]
    },
    {
     "data": {
      "text/html": [
       "<table>\n",
       "    <tr>\n",
       "        <th>correlation_coefficient</th>\n",
       "    </tr>\n",
       "    <tr>\n",
       "        <td>3.641432379766429e-14</td>\n",
       "    </tr>\n",
       "</table>"
      ],
      "text/plain": [
       "[(3.641432379766429e-14,)]"
      ]
     },
     "execution_count": 303,
     "metadata": {},
     "output_type": "execute_result"
    }
   ],
   "source": [
    "%%sql\n",
    "\n",
    "WITH \n",
    "  -- Calculate the average budget and rating\n",
    "  averages AS (\n",
    "    SELECT \n",
    "      AVG(budget) AS avg_budget,\n",
    "      AVG(vote_average) AS avg_rating\n",
    "    FROM \n",
    "      movies\n",
    "  ),\n",
    "  \n",
    "  -- Calculate the deviations from the average\n",
    "  deviations AS (\n",
    "    SELECT \n",
    "      budget - a.avg_budget AS budget_dev,\n",
    "      vote_average - a.avg_rating AS rating_dev\n",
    "    FROM \n",
    "      movies\n",
    "    CROSS JOIN averages a\n",
    "  ),\n",
    "  \n",
    "  -- Calculate the covariance and variance\n",
    "  covariance_variance AS (\n",
    "    SELECT \n",
    "      SUM(budget_dev * rating_dev) AS covariance,\n",
    "      SUM(budget_dev * budget_dev) AS variance_budget,\n",
    "      SUM(rating_dev * rating_dev) AS variance_rating\n",
    "    FROM \n",
    "      deviations\n",
    "  )\n",
    "  \n",
    "-- Calculate the correlation coefficient\n",
    "SELECT \n",
    "  covariance / ((variance_budget * variance_rating) * (1.0/2)) AS correlation_coefficient\n",
    "FROM \n",
    "  covariance_variance;"
   ]
  },
  {
   "cell_type": "markdown",
   "id": "efa8c3be-0d73-485a-ad20-f09589b47c88",
   "metadata": {},
   "source": [
    "#### Insights;\n",
    "\n",
    "The correlation coefficient of 3.64e-14 is an extremely small value close to zero. This suggests that there is no significant linear relationship between the two variables (budget and rating) in the dataset.\n",
    "\n",
    "In other words, the correlation coefficient is indicating that the budget and rating variables are essentially unrelated, and changes in one variable do not tend to be associated with changes in the other variable."
   ]
  },
  {
   "cell_type": "markdown",
   "id": "a0fc47e1-68c2-4dc8-b98f-c03718264bf2",
   "metadata": {},
   "source": [
    "### Is there a correlation between movie runtime and rating? Do longer movies tend to have higher ratings?"
   ]
  },
  {
   "cell_type": "code",
   "execution_count": 304,
   "id": "f35841b0-f650-4123-8a16-834d78ef3ad2",
   "metadata": {},
   "outputs": [
    {
     "name": "stdout",
     "output_type": "stream",
     "text": [
      " * sqlite:///TMDB.db\n",
      "Done.\n"
     ]
    },
    {
     "data": {
      "text/html": [
       "<table>\n",
       "    <tr>\n",
       "        <th>title</th>\n",
       "        <th>runtime</th>\n",
       "        <th>ratings</th>\n",
       "    </tr>\n",
       "    <tr>\n",
       "        <td>Carlos</td>\n",
       "        <td>338.0</td>\n",
       "        <td>6.7</td>\n",
       "    </tr>\n",
       "    <tr>\n",
       "        <td>The Company</td>\n",
       "        <td>276.0</td>\n",
       "        <td>7.0</td>\n",
       "    </tr>\n",
       "    <tr>\n",
       "        <td>Gettysburg</td>\n",
       "        <td>254.0</td>\n",
       "        <td>6.6</td>\n",
       "    </tr>\n",
       "    <tr>\n",
       "        <td>Cleopatra</td>\n",
       "        <td>248.0</td>\n",
       "        <td>6.7</td>\n",
       "    </tr>\n",
       "    <tr>\n",
       "        <td>Hamlet</td>\n",
       "        <td>242.0</td>\n",
       "        <td>7.3</td>\n",
       "    </tr>\n",
       "    <tr>\n",
       "        <td>Emma</td>\n",
       "        <td>240.0</td>\n",
       "        <td>7.6</td>\n",
       "    </tr>\n",
       "    <tr>\n",
       "        <td>Gone with the Wind</td>\n",
       "        <td>238.0</td>\n",
       "        <td>7.7</td>\n",
       "    </tr>\n",
       "    <tr>\n",
       "        <td>Once Upon a Time in America</td>\n",
       "        <td>229.0</td>\n",
       "        <td>8.2</td>\n",
       "    </tr>\n",
       "    <tr>\n",
       "        <td>Woodstock</td>\n",
       "        <td>225.0</td>\n",
       "        <td>7.1</td>\n",
       "    </tr>\n",
       "    <tr>\n",
       "        <td>Heaven&#x27;s Gate</td>\n",
       "        <td>219.0</td>\n",
       "        <td>6.4</td>\n",
       "    </tr>\n",
       "</table>"
      ],
      "text/plain": [
       "[('Carlos', 338.0, 6.7),\n",
       " ('The Company', 276.0, 7.0),\n",
       " ('Gettysburg', 254.0, 6.6),\n",
       " ('Cleopatra', 248.0, 6.7),\n",
       " ('Hamlet', 242.0, 7.3),\n",
       " ('Emma', 240.0, 7.6),\n",
       " ('Gone with the Wind', 238.0, 7.7),\n",
       " ('Once Upon a Time in America', 229.0, 8.2),\n",
       " ('Woodstock', 225.0, 7.1),\n",
       " (\"Heaven's Gate\", 219.0, 6.4)]"
      ]
     },
     "execution_count": 304,
     "metadata": {},
     "output_type": "execute_result"
    }
   ],
   "source": [
    "%%sql\n",
    "\n",
    "SELECT title, runtime, vote_average AS ratings\n",
    "FROM movies\n",
    "ORDER BY runtime DESC\n",
    "LIMIT 10;"
   ]
  },
  {
   "cell_type": "code",
   "execution_count": 307,
   "id": "5c7a7d5f-9741-4f43-a6a3-288c3b8f8a06",
   "metadata": {},
   "outputs": [
    {
     "name": "stdout",
     "output_type": "stream",
     "text": [
      " * sqlite:///TMDB.db\n",
      "Done.\n"
     ]
    },
    {
     "data": {
      "text/html": [
       "<table>\n",
       "    <tr>\n",
       "        <th>correlation_coefficient</th>\n",
       "    </tr>\n",
       "    <tr>\n",
       "        <td>7.394180314011995e-06</td>\n",
       "    </tr>\n",
       "</table>"
      ],
      "text/plain": [
       "[(7.394180314011995e-06,)]"
      ]
     },
     "execution_count": 307,
     "metadata": {},
     "output_type": "execute_result"
    }
   ],
   "source": [
    "%%sql\n",
    "\n",
    "WITH \r\n",
    "  -- Calculate the average runtime and rating\r\n",
    "  averages AS (\r\n",
    "    SELECT \r\n",
    "      AVG(runtime) AS avg_runtime,\r\n",
    "      AVG(vote_average) AS avg_rating\r\n",
    "    FROM \r\n",
    "      movies\r\n",
    "  ),\r\n",
    "  \r\n",
    "  -- Calculate the deviations from the average\r\n",
    "  deviations AS (\r\n",
    "    SELECT \r\n",
    "      runtime - a.avg_runtime AS runtime_dev,\r\n",
    "      vote_average - a.avg_rating AS rating_dev\r\n",
    "    FROM \r\n",
    "      movies\r\n",
    "    CROSS JOIN averages a\r\n",
    "  ),\r\n",
    "  \r\n",
    "  -- Calculate the covariance and variance\r\n",
    "  covariance_variance AS (\r\n",
    "    SELECT \r\n",
    "      SUM(runtime_dev * rating_dev) AS covariance,\r\n",
    "      SUM(runtime_dev * runtime_dev) AS variance_runtime,\r\n",
    "      SUM(rating_dev * rating_dev) AS variance_rating\r\n",
    "    FROM \r\n",
    "      deviations\r\n",
    "  )\r\n",
    "  \r\n",
    "-- Calculate the correlation coefficient\r\n",
    "SELECT \r\n",
    "  covariance / ((variance_runtime * variance_rating) * (1.0/2)) AS correlation_coefficient\r\n",
    "FROM \r\n",
    "  covariance_variance;"
   ]
  },
  {
   "cell_type": "markdown",
   "id": "ae2defe5-2956-45d7-8946-48e7f67dc55e",
   "metadata": {},
   "source": [
    "#### Insights:\n",
    "\n",
    "The correlation coefficient of 7.394180314011995e-06 suggests that there is no significant linear relationship between the movie runtime and rating.This means that the movie runtime and rating are not significantly related, and changes in one variable do not tend to be associated with changes in the other variable."
   ]
  },
  {
   "cell_type": "markdown",
   "id": "d8fb4a8a-2a7a-4996-bd29-387d7f18b85d",
   "metadata": {},
   "source": [
    "### Which actor is the most awarded in the dataset?"
   ]
  },
  {
   "cell_type": "code",
   "execution_count": 8,
   "id": "57b66ee3-571a-4ade-b9cb-624d8a2b0670",
   "metadata": {},
   "outputs": [
    {
     "name": "stdout",
     "output_type": "stream",
     "text": [
      " * sqlite:///TMDB.db\n",
      "Done.\n"
     ]
    },
    {
     "data": {
      "text/html": [
       "<table>\n",
       "    <tr>\n",
       "        <th>actor_name</th>\n",
       "        <th>number_of_oscars</th>\n",
       "    </tr>\n",
       "    <tr>\n",
       "        <td>Robert De Niro</td>\n",
       "        <td>114</td>\n",
       "    </tr>\n",
       "    <tr>\n",
       "        <td>Meryl Streep</td>\n",
       "        <td>90</td>\n",
       "    </tr>\n",
       "    <tr>\n",
       "        <td>Tom Hanks</td>\n",
       "        <td>64</td>\n",
       "    </tr>\n",
       "    <tr>\n",
       "        <td>Denzel Washington</td>\n",
       "        <td>62</td>\n",
       "    </tr>\n",
       "    <tr>\n",
       "        <td>Cate Blanchett</td>\n",
       "        <td>62</td>\n",
       "    </tr>\n",
       "    <tr>\n",
       "        <td>Michael Caine</td>\n",
       "        <td>58</td>\n",
       "    </tr>\n",
       "    <tr>\n",
       "        <td>Dustin Hoffman</td>\n",
       "        <td>58</td>\n",
       "    </tr>\n",
       "    <tr>\n",
       "        <td>Jack Nicholson</td>\n",
       "        <td>51</td>\n",
       "    </tr>\n",
       "    <tr>\n",
       "        <td>Gene Hackman</td>\n",
       "        <td>50</td>\n",
       "    </tr>\n",
       "    <tr>\n",
       "        <td>Angelina Jolie</td>\n",
       "        <td>50</td>\n",
       "    </tr>\n",
       "</table>"
      ],
      "text/plain": [
       "[('Robert De Niro', 114),\n",
       " ('Meryl Streep', 90),\n",
       " ('Tom Hanks', 64),\n",
       " ('Denzel Washington', 62),\n",
       " ('Cate Blanchett', 62),\n",
       " ('Michael Caine', 58),\n",
       " ('Dustin Hoffman', 58),\n",
       " ('Jack Nicholson', 51),\n",
       " ('Gene Hackman', 50),\n",
       " ('Angelina Jolie', 50)]"
      ]
     },
     "execution_count": 8,
     "metadata": {},
     "output_type": "execute_result"
    }
   ],
   "source": [
    "%%sql\n",
    "\n",
    "SELECT \n",
    "    actors.actor_name, \n",
    "    COUNT(oscars.winner) as number_of_oscars\n",
    "FROM movies\n",
    "JOIN casts ON movies.movie_id = casts.movie_id\n",
    "JOIN actors ON casts.actor_id = actors.actor_id\n",
    "JOIN oscars ON actors.actor_name = oscars.name\n",
    "GROUP BY actors.actor_name\n",
    "ORDER BY  number_of_oscars DESC\n",
    "LIMIT 10;"
   ]
  },
  {
   "cell_type": "markdown",
   "id": "9f56efc0-ee6d-443d-b8f5-b2b186166a56",
   "metadata": {},
   "source": [
    "### Which actor has the most oscar nomination?"
   ]
  },
  {
   "cell_type": "code",
   "execution_count": 7,
   "id": "b6ed368c-5447-495b-aa53-53ef3d11cd60",
   "metadata": {},
   "outputs": [
    {
     "name": "stdout",
     "output_type": "stream",
     "text": [
      " * sqlite:///TMDB.db\n",
      "Done.\n"
     ]
    },
    {
     "data": {
      "text/html": [
       "<table>\n",
       "    <tr>\n",
       "        <th>actor_name</th>\n",
       "        <th>number_of_nominations</th>\n",
       "    </tr>\n",
       "    <tr>\n",
       "        <td>Meryl Streep</td>\n",
       "        <td>570</td>\n",
       "    </tr>\n",
       "    <tr>\n",
       "        <td>Robert De Niro</td>\n",
       "        <td>399</td>\n",
       "    </tr>\n",
       "    <tr>\n",
       "        <td>Morgan Freeman</td>\n",
       "        <td>230</td>\n",
       "    </tr>\n",
       "    <tr>\n",
       "        <td>Cate Blanchett</td>\n",
       "        <td>217</td>\n",
       "    </tr>\n",
       "    <tr>\n",
       "        <td>Robert Duvall</td>\n",
       "        <td>210</td>\n",
       "    </tr>\n",
       "    <tr>\n",
       "        <td>Judi Dench</td>\n",
       "        <td>210</td>\n",
       "    </tr>\n",
       "    <tr>\n",
       "        <td>Jack Nicholson</td>\n",
       "        <td>204</td>\n",
       "    </tr>\n",
       "    <tr>\n",
       "        <td>Dustin Hoffman</td>\n",
       "        <td>203</td>\n",
       "    </tr>\n",
       "    <tr>\n",
       "        <td>Denzel Washington</td>\n",
       "        <td>186</td>\n",
       "    </tr>\n",
       "    <tr>\n",
       "        <td>Al Pacino</td>\n",
       "        <td>184</td>\n",
       "    </tr>\n",
       "</table>"
      ],
      "text/plain": [
       "[('Meryl Streep', 570),\n",
       " ('Robert De Niro', 399),\n",
       " ('Morgan Freeman', 230),\n",
       " ('Cate Blanchett', 217),\n",
       " ('Robert Duvall', 210),\n",
       " ('Judi Dench', 210),\n",
       " ('Jack Nicholson', 204),\n",
       " ('Dustin Hoffman', 203),\n",
       " ('Denzel Washington', 186),\n",
       " ('Al Pacino', 184)]"
      ]
     },
     "execution_count": 7,
     "metadata": {},
     "output_type": "execute_result"
    }
   ],
   "source": [
    "%%sql\n",
    "\n",
    "SELECT \n",
    "    actors.actor_name, \n",
    "    COUNT(oscars.name) as number_of_nominations\n",
    "FROM movies\n",
    "JOIN casts ON movies.movie_id = casts.movie_id\n",
    "JOIN actors ON casts.actor_id = actors.actor_id\n",
    "JOIN oscars ON actors.actor_name = oscars.name\n",
    "GROUP BY actors.actor_name\n",
    "ORDER BY  number_of_nominations DESC\n",
    "LIMIT 10;"
   ]
  },
  {
   "cell_type": "markdown",
   "id": "72d9e317-1a4a-47ac-a942-9a7d90f9553b",
   "metadata": {},
   "source": [
    "### Convert the dataset to csv"
   ]
  },
  {
   "cell_type": "code",
   "execution_count": 218,
   "id": "df4bb4cc-c722-46e5-927e-3d5e38ffd5c7",
   "metadata": {},
   "outputs": [],
   "source": [
    "import sqlite3\n",
    "import csv\n",
    "\n",
    "# Connect to the database\n",
    "conn = sqlite3.connect('TMDB.db')\n",
    "cursor = conn.cursor()\n",
    "\n",
    "# Get a list of all tables in the database\n",
    "cursor.execute(\"SELECT name FROM sqlite_master WHERE type='table'\")\n",
    "tables = [row[0] for row in cursor.fetchall()]\n",
    "\n",
    "# Loop through each table and export it to a separate CSV file\n",
    "for table in tables:\n",
    "    cursor.execute(f\"SELECT * FROM {table}\")\n",
    "    rows = cursor.fetchall()\n",
    "    with open(f\"{table}.csv\", 'w', newline='') as csvfile:\n",
    "        writer = csv.writer(csvfile)\n",
    "        writer.writerow([desc[0] for desc in cursor.description])\n",
    "        writer.writerows(rows)\n",
    "\n",
    "# Close the database connection\n",
    "conn.close()"
   ]
  }
 ],
 "metadata": {
  "kernelspec": {
   "display_name": "Python 3 (ipykernel)",
   "language": "python",
   "name": "python3"
  },
  "language_info": {
   "codemirror_mode": {
    "name": "ipython",
    "version": 3
   },
   "file_extension": ".py",
   "mimetype": "text/x-python",
   "name": "python",
   "nbconvert_exporter": "python",
   "pygments_lexer": "ipython3",
   "version": "3.11.7"
  }
 },
 "nbformat": 4,
 "nbformat_minor": 5
}
